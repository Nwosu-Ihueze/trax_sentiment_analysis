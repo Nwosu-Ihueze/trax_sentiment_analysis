{
  "nbformat": 4,
  "nbformat_minor": 0,
  "metadata": {
    "colab": {
      "name": "Untitled32.ipynb",
      "provenance": [],
      "authorship_tag": "ABX9TyNVXO+eM+yvCqgRdGUVkXL2",
      "include_colab_link": true
    },
    "kernelspec": {
      "name": "python3",
      "display_name": "Python 3"
    },
    "language_info": {
      "name": "python"
    }
  },
  "cells": [
    {
      "cell_type": "markdown",
      "metadata": {
        "id": "view-in-github",
        "colab_type": "text"
      },
      "source": [
        "<a href=\"https://colab.research.google.com/github/Nwosu-Ihueze/trax_sentiment_analysis/blob/main/trax2.ipynb\" target=\"_parent\"><img src=\"https://colab.research.google.com/assets/colab-badge.svg\" alt=\"Open In Colab\"/></a>"
      ]
    },
    {
      "cell_type": "code",
      "metadata": {
        "colab": {
          "base_uri": "https://localhost:8080/"
        },
        "id": "SdDphj_HdpKd",
        "outputId": "64c8ad42-9066-4a35-b850-a8013906b736"
      },
      "source": [
        "\\from google.colab import drive\n",
        "drive.mount(\"/content/drive\")"
      ],
      "execution_count": 1,
      "outputs": [
        {
          "output_type": "stream",
          "text": [
            "Mounted at /content/drive\n"
          ],
          "name": "stdout"
        }
      ]
    },
    {
      "cell_type": "code",
      "metadata": {
        "colab": {
          "base_uri": "https://localhost:8080/"
        },
        "id": "24l4yY74d9tr",
        "outputId": "9ab4a31e-688c-43a5-86e9-cf8e9422711f"
      },
      "source": [
        "%cd /content/drive/MyDrive/trax_sentiment_analysis"
      ],
      "execution_count": 2,
      "outputs": [
        {
          "output_type": "stream",
          "text": [
            "/content/drive/MyDrive/trax_sentiment_analysis\n"
          ],
          "name": "stdout"
        }
      ]
    },
    {
      "cell_type": "code",
      "metadata": {
        "colab": {
          "base_uri": "https://localhost:8080/"
        },
        "id": "1ZAIG4abePwE",
        "outputId": "2778173f-3b2b-4c07-a4e1-a258467653d7"
      },
      "source": [
        "!pip install trax"
      ],
      "execution_count": 3,
      "outputs": [
        {
          "output_type": "stream",
          "text": [
            "Collecting trax\n",
            "\u001b[?25l  Downloading https://files.pythonhosted.org/packages/42/51/305b839f51d53abb393777f743e497d27bb341478f3fdec4d6ddaccc9fb5/trax-1.3.7-py2.py3-none-any.whl (521kB)\n",
            "\u001b[K     |████████████████████████████████| 522kB 4.4MB/s \n",
            "\u001b[?25hCollecting funcsigs\n",
            "  Downloading https://files.pythonhosted.org/packages/69/cb/f5be453359271714c01b9bd06126eaf2e368f1fddfff30818754b5ac2328/funcsigs-1.0.2-py2.py3-none-any.whl\n",
            "Requirement already satisfied: scipy in /usr/local/lib/python3.7/dist-packages (from trax) (1.4.1)\n",
            "Collecting t5\n",
            "\u001b[?25l  Downloading https://files.pythonhosted.org/packages/d0/e4/e2dc66207464795aafecc5c8cef9a35b5c9a61b974ac60a2c306c12bfd4c/t5-0.9.1-py3-none-any.whl (152kB)\n",
            "\u001b[K     |████████████████████████████████| 153kB 6.8MB/s \n",
            "\u001b[?25hRequirement already satisfied: jaxlib in /usr/local/lib/python3.7/dist-packages (from trax) (0.1.65+cuda110)\n",
            "Requirement already satisfied: psutil in /usr/local/lib/python3.7/dist-packages (from trax) (5.4.8)\n",
            "Requirement already satisfied: numpy in /usr/local/lib/python3.7/dist-packages (from trax) (1.19.5)\n",
            "Requirement already satisfied: six in /usr/local/lib/python3.7/dist-packages (from trax) (1.15.0)\n",
            "Requirement already satisfied: gin-config in /usr/local/lib/python3.7/dist-packages (from trax) (0.4.0)\n",
            "Requirement already satisfied: tensorflow-datasets in /usr/local/lib/python3.7/dist-packages (from trax) (4.0.1)\n",
            "Requirement already satisfied: absl-py in /usr/local/lib/python3.7/dist-packages (from trax) (0.12.0)\n",
            "Requirement already satisfied: gym in /usr/local/lib/python3.7/dist-packages (from trax) (0.17.3)\n",
            "Collecting tensorflow-text\n",
            "\u001b[?25l  Downloading https://files.pythonhosted.org/packages/b6/c0/c0fed4301f592c3b56638ae7292612c17d91a43891ba1aaf9636d535beae/tensorflow_text-2.4.3-cp37-cp37m-manylinux1_x86_64.whl (3.4MB)\n",
            "\u001b[K     |████████████████████████████████| 3.4MB 9.4MB/s \n",
            "\u001b[?25hRequirement already satisfied: jax in /usr/local/lib/python3.7/dist-packages (from trax) (0.2.12)\n",
            "Collecting rouge-score\n",
            "  Downloading https://files.pythonhosted.org/packages/1f/56/a81022436c08b9405a5247b71635394d44fe7e1dbedc4b28c740e09c2840/rouge_score-0.0.4-py2.py3-none-any.whl\n",
            "Collecting sacrebleu\n",
            "\u001b[?25l  Downloading https://files.pythonhosted.org/packages/7e/57/0c7ca4e31a126189dab99c19951910bd081dea5bbd25f24b77107750eae7/sacrebleu-1.5.1-py3-none-any.whl (54kB)\n",
            "\u001b[K     |████████████████████████████████| 61kB 5.8MB/s \n",
            "\u001b[?25hRequirement already satisfied: babel in /usr/local/lib/python3.7/dist-packages (from t5->trax) (2.9.0)\n",
            "Collecting transformers>=2.7.0\n",
            "\u001b[?25l  Downloading https://files.pythonhosted.org/packages/d8/b2/57495b5309f09fa501866e225c84532d1fd89536ea62406b2181933fb418/transformers-4.5.1-py3-none-any.whl (2.1MB)\n",
            "\u001b[K     |████████████████████████████████| 2.1MB 34.8MB/s \n",
            "\u001b[?25hRequirement already satisfied: pandas in /usr/local/lib/python3.7/dist-packages (from t5->trax) (1.1.5)\n",
            "Collecting tfds-nightly\n",
            "\u001b[?25l  Downloading https://files.pythonhosted.org/packages/37/48/52a13e7492a29fb5423e2b28c1415634ff834f74f523308085b659c0379e/tfds_nightly-4.2.0.dev202104240107-py3-none-any.whl (3.8MB)\n",
            "\u001b[K     |████████████████████████████████| 3.9MB 33.8MB/s \n",
            "\u001b[?25hRequirement already satisfied: scikit-learn in /usr/local/lib/python3.7/dist-packages (from t5->trax) (0.22.2.post1)\n",
            "Requirement already satisfied: nltk in /usr/local/lib/python3.7/dist-packages (from t5->trax) (3.2.5)\n",
            "Requirement already satisfied: torch in /usr/local/lib/python3.7/dist-packages (from t5->trax) (1.8.1+cu101)\n",
            "Collecting seqio\n",
            "\u001b[?25l  Downloading https://files.pythonhosted.org/packages/30/21/8161f170208b4da94036aa74c6974caaeca82a9a634e80bf98e1a0cd6e10/seqio-0.0.3-py3-none-any.whl (241kB)\n",
            "\u001b[K     |████████████████████████████████| 245kB 44.0MB/s \n",
            "\u001b[?25hCollecting sentencepiece\n",
            "\u001b[?25l  Downloading https://files.pythonhosted.org/packages/f5/99/e0808cb947ba10f575839c43e8fafc9cc44e4a7a2c8f79c60db48220a577/sentencepiece-0.1.95-cp37-cp37m-manylinux2014_x86_64.whl (1.2MB)\n",
            "\u001b[K     |████████████████████████████████| 1.2MB 54.4MB/s \n",
            "\u001b[?25hCollecting mesh-tensorflow[transformer]>=0.1.13\n",
            "\u001b[?25l  Downloading https://files.pythonhosted.org/packages/ce/10/37df0bc87ebf84e1414613176340e3aadc3697d2bd112bf63d3d4b1e848a/mesh_tensorflow-0.1.19-py3-none-any.whl (366kB)\n",
            "\u001b[K     |████████████████████████████████| 368kB 56.6MB/s \n",
            "\u001b[?25hRequirement already satisfied: flatbuffers in /usr/local/lib/python3.7/dist-packages (from jaxlib->trax) (1.12)\n",
            "Requirement already satisfied: dill in /usr/local/lib/python3.7/dist-packages (from tensorflow-datasets->trax) (0.3.3)\n",
            "Requirement already satisfied: future in /usr/local/lib/python3.7/dist-packages (from tensorflow-datasets->trax) (0.16.0)\n",
            "Requirement already satisfied: attrs>=18.1.0 in /usr/local/lib/python3.7/dist-packages (from tensorflow-datasets->trax) (20.3.0)\n",
            "Requirement already satisfied: importlib-resources; python_version < \"3.9\" in /usr/local/lib/python3.7/dist-packages (from tensorflow-datasets->trax) (5.1.2)\n",
            "Requirement already satisfied: dm-tree in /usr/local/lib/python3.7/dist-packages (from tensorflow-datasets->trax) (0.1.6)\n",
            "Requirement already satisfied: requests>=2.19.0 in /usr/local/lib/python3.7/dist-packages (from tensorflow-datasets->trax) (2.23.0)\n",
            "Requirement already satisfied: tqdm in /usr/local/lib/python3.7/dist-packages (from tensorflow-datasets->trax) (4.41.1)\n",
            "Requirement already satisfied: termcolor in /usr/local/lib/python3.7/dist-packages (from tensorflow-datasets->trax) (1.1.0)\n",
            "Requirement already satisfied: tensorflow-metadata in /usr/local/lib/python3.7/dist-packages (from tensorflow-datasets->trax) (0.29.0)\n",
            "Requirement already satisfied: protobuf>=3.6.1 in /usr/local/lib/python3.7/dist-packages (from tensorflow-datasets->trax) (3.12.4)\n",
            "Requirement already satisfied: promise in /usr/local/lib/python3.7/dist-packages (from tensorflow-datasets->trax) (2.3)\n",
            "Requirement already satisfied: pyglet<=1.5.0,>=1.4.0 in /usr/local/lib/python3.7/dist-packages (from gym->trax) (1.5.0)\n",
            "Requirement already satisfied: cloudpickle<1.7.0,>=1.2.0 in /usr/local/lib/python3.7/dist-packages (from gym->trax) (1.3.0)\n",
            "Requirement already satisfied: tensorflow-hub>=0.8.0 in /usr/local/lib/python3.7/dist-packages (from tensorflow-text->trax) (0.12.0)\n",
            "Requirement already satisfied: tensorflow<2.5,>=2.4.0 in /usr/local/lib/python3.7/dist-packages (from tensorflow-text->trax) (2.4.1)\n",
            "Requirement already satisfied: opt-einsum in /usr/local/lib/python3.7/dist-packages (from jax->trax) (3.3.0)\n",
            "Collecting portalocker==2.0.0\n",
            "  Downloading https://files.pythonhosted.org/packages/89/a6/3814b7107e0788040870e8825eebf214d72166adf656ba7d4bf14759a06a/portalocker-2.0.0-py2.py3-none-any.whl\n",
            "Requirement already satisfied: pytz>=2015.7 in /usr/local/lib/python3.7/dist-packages (from babel->t5->trax) (2018.9)\n",
            "Requirement already satisfied: regex!=2019.12.17 in /usr/local/lib/python3.7/dist-packages (from transformers>=2.7.0->t5->trax) (2019.12.20)\n",
            "Requirement already satisfied: importlib-metadata; python_version < \"3.8\" in /usr/local/lib/python3.7/dist-packages (from transformers>=2.7.0->t5->trax) (3.10.1)\n",
            "Requirement already satisfied: filelock in /usr/local/lib/python3.7/dist-packages (from transformers>=2.7.0->t5->trax) (3.0.12)\n",
            "Requirement already satisfied: packaging in /usr/local/lib/python3.7/dist-packages (from transformers>=2.7.0->t5->trax) (20.9)\n",
            "Collecting sacremoses\n",
            "\u001b[?25l  Downloading https://files.pythonhosted.org/packages/75/ee/67241dc87f266093c533a2d4d3d69438e57d7a90abb216fa076e7d475d4a/sacremoses-0.0.45-py3-none-any.whl (895kB)\n",
            "\u001b[K     |████████████████████████████████| 901kB 45.5MB/s \n",
            "\u001b[?25hCollecting tokenizers<0.11,>=0.10.1\n",
            "\u001b[?25l  Downloading https://files.pythonhosted.org/packages/ae/04/5b870f26a858552025a62f1649c20d29d2672c02ff3c3fb4c688ca46467a/tokenizers-0.10.2-cp37-cp37m-manylinux2010_x86_64.whl (3.3MB)\n",
            "\u001b[K     |████████████████████████████████| 3.3MB 42.0MB/s \n",
            "\u001b[?25hRequirement already satisfied: python-dateutil>=2.7.3 in /usr/local/lib/python3.7/dist-packages (from pandas->t5->trax) (2.8.1)\n",
            "Requirement already satisfied: typing-extensions; python_version < \"3.8\" in /usr/local/lib/python3.7/dist-packages (from tfds-nightly->t5->trax) (3.7.4.3)\n",
            "Requirement already satisfied: joblib>=0.11 in /usr/local/lib/python3.7/dist-packages (from scikit-learn->t5->trax) (1.0.1)\n",
            "Requirement already satisfied: zipp>=0.4; python_version < \"3.8\" in /usr/local/lib/python3.7/dist-packages (from importlib-resources; python_version < \"3.9\"->tensorflow-datasets->trax) (3.4.1)\n",
            "Requirement already satisfied: idna<3,>=2.5 in /usr/local/lib/python3.7/dist-packages (from requests>=2.19.0->tensorflow-datasets->trax) (2.10)\n",
            "Requirement already satisfied: urllib3!=1.25.0,!=1.25.1,<1.26,>=1.21.1 in /usr/local/lib/python3.7/dist-packages (from requests>=2.19.0->tensorflow-datasets->trax) (1.24.3)\n",
            "Requirement already satisfied: certifi>=2017.4.17 in /usr/local/lib/python3.7/dist-packages (from requests>=2.19.0->tensorflow-datasets->trax) (2020.12.5)\n",
            "Requirement already satisfied: chardet<4,>=3.0.2 in /usr/local/lib/python3.7/dist-packages (from requests>=2.19.0->tensorflow-datasets->trax) (3.0.4)\n",
            "Requirement already satisfied: googleapis-common-protos<2,>=1.52.0 in /usr/local/lib/python3.7/dist-packages (from tensorflow-metadata->tensorflow-datasets->trax) (1.53.0)\n",
            "Requirement already satisfied: setuptools in /usr/local/lib/python3.7/dist-packages (from protobuf>=3.6.1->tensorflow-datasets->trax) (56.0.0)\n",
            "Requirement already satisfied: h5py~=2.10.0 in /usr/local/lib/python3.7/dist-packages (from tensorflow<2.5,>=2.4.0->tensorflow-text->trax) (2.10.0)\n",
            "Requirement already satisfied: google-pasta~=0.2 in /usr/local/lib/python3.7/dist-packages (from tensorflow<2.5,>=2.4.0->tensorflow-text->trax) (0.2.0)\n",
            "Requirement already satisfied: gast==0.3.3 in /usr/local/lib/python3.7/dist-packages (from tensorflow<2.5,>=2.4.0->tensorflow-text->trax) (0.3.3)\n",
            "Requirement already satisfied: grpcio~=1.32.0 in /usr/local/lib/python3.7/dist-packages (from tensorflow<2.5,>=2.4.0->tensorflow-text->trax) (1.32.0)\n",
            "Requirement already satisfied: tensorflow-estimator<2.5.0,>=2.4.0 in /usr/local/lib/python3.7/dist-packages (from tensorflow<2.5,>=2.4.0->tensorflow-text->trax) (2.4.0)\n",
            "Requirement already satisfied: wrapt~=1.12.1 in /usr/local/lib/python3.7/dist-packages (from tensorflow<2.5,>=2.4.0->tensorflow-text->trax) (1.12.1)\n",
            "Requirement already satisfied: wheel~=0.35 in /usr/local/lib/python3.7/dist-packages (from tensorflow<2.5,>=2.4.0->tensorflow-text->trax) (0.36.2)\n",
            "Requirement already satisfied: astunparse~=1.6.3 in /usr/local/lib/python3.7/dist-packages (from tensorflow<2.5,>=2.4.0->tensorflow-text->trax) (1.6.3)\n",
            "Requirement already satisfied: tensorboard~=2.4 in /usr/local/lib/python3.7/dist-packages (from tensorflow<2.5,>=2.4.0->tensorflow-text->trax) (2.4.1)\n",
            "Requirement already satisfied: keras-preprocessing~=1.1.2 in /usr/local/lib/python3.7/dist-packages (from tensorflow<2.5,>=2.4.0->tensorflow-text->trax) (1.1.2)\n",
            "Requirement already satisfied: pyparsing>=2.0.2 in /usr/local/lib/python3.7/dist-packages (from packaging->transformers>=2.7.0->t5->trax) (2.4.7)\n",
            "Requirement already satisfied: click in /usr/local/lib/python3.7/dist-packages (from sacremoses->transformers>=2.7.0->t5->trax) (7.1.2)\n",
            "Requirement already satisfied: tensorboard-plugin-wit>=1.6.0 in /usr/local/lib/python3.7/dist-packages (from tensorboard~=2.4->tensorflow<2.5,>=2.4.0->tensorflow-text->trax) (1.8.0)\n",
            "Requirement already satisfied: werkzeug>=0.11.15 in /usr/local/lib/python3.7/dist-packages (from tensorboard~=2.4->tensorflow<2.5,>=2.4.0->tensorflow-text->trax) (1.0.1)\n",
            "Requirement already satisfied: google-auth-oauthlib<0.5,>=0.4.1 in /usr/local/lib/python3.7/dist-packages (from tensorboard~=2.4->tensorflow<2.5,>=2.4.0->tensorflow-text->trax) (0.4.4)\n",
            "Requirement already satisfied: google-auth<2,>=1.6.3 in /usr/local/lib/python3.7/dist-packages (from tensorboard~=2.4->tensorflow<2.5,>=2.4.0->tensorflow-text->trax) (1.28.1)\n",
            "Requirement already satisfied: markdown>=2.6.8 in /usr/local/lib/python3.7/dist-packages (from tensorboard~=2.4->tensorflow<2.5,>=2.4.0->tensorflow-text->trax) (3.3.4)\n",
            "Requirement already satisfied: requests-oauthlib>=0.7.0 in /usr/local/lib/python3.7/dist-packages (from google-auth-oauthlib<0.5,>=0.4.1->tensorboard~=2.4->tensorflow<2.5,>=2.4.0->tensorflow-text->trax) (1.3.0)\n",
            "Requirement already satisfied: pyasn1-modules>=0.2.1 in /usr/local/lib/python3.7/dist-packages (from google-auth<2,>=1.6.3->tensorboard~=2.4->tensorflow<2.5,>=2.4.0->tensorflow-text->trax) (0.2.8)\n",
            "Requirement already satisfied: cachetools<5.0,>=2.0.0 in /usr/local/lib/python3.7/dist-packages (from google-auth<2,>=1.6.3->tensorboard~=2.4->tensorflow<2.5,>=2.4.0->tensorflow-text->trax) (4.2.1)\n",
            "Requirement already satisfied: rsa<5,>=3.1.4; python_version >= \"3.6\" in /usr/local/lib/python3.7/dist-packages (from google-auth<2,>=1.6.3->tensorboard~=2.4->tensorflow<2.5,>=2.4.0->tensorflow-text->trax) (4.7.2)\n",
            "Requirement already satisfied: oauthlib>=3.0.0 in /usr/local/lib/python3.7/dist-packages (from requests-oauthlib>=0.7.0->google-auth-oauthlib<0.5,>=0.4.1->tensorboard~=2.4->tensorflow<2.5,>=2.4.0->tensorflow-text->trax) (3.1.0)\n",
            "Requirement already satisfied: pyasn1<0.5.0,>=0.4.6 in /usr/local/lib/python3.7/dist-packages (from pyasn1-modules>=0.2.1->google-auth<2,>=1.6.3->tensorboard~=2.4->tensorflow<2.5,>=2.4.0->tensorflow-text->trax) (0.4.8)\n",
            "Installing collected packages: funcsigs, rouge-score, portalocker, sacrebleu, sacremoses, tokenizers, transformers, tfds-nightly, tensorflow-text, sentencepiece, seqio, mesh-tensorflow, t5, trax\n",
            "Successfully installed funcsigs-1.0.2 mesh-tensorflow-0.1.19 portalocker-2.0.0 rouge-score-0.0.4 sacrebleu-1.5.1 sacremoses-0.0.45 sentencepiece-0.1.95 seqio-0.0.3 t5-0.9.1 tensorflow-text-2.4.3 tfds-nightly-4.2.0.dev202104240107 tokenizers-0.10.2 transformers-4.5.1 trax-1.3.7\n"
          ],
          "name": "stdout"
        }
      ]
    },
    {
      "cell_type": "code",
      "metadata": {
        "colab": {
          "base_uri": "https://localhost:8080/"
        },
        "id": "DuNuoHcXeNi2",
        "outputId": "f78cdaa9-b8e6-4ad1-884d-b9d85275b30f"
      },
      "source": [
        "import os \n",
        "import random as rnd\n",
        "\n",
        "\n",
        "import trax\n",
        "# set random seeds to make this notebook easier to replicate\n",
        "\n",
        "\n",
        "# import trax.fastmath.numpy\n",
        "import trax.fastmath.numpy as np\n",
        "\n",
        "# import trax.layers\n",
        "from trax import layers as tl\n",
        "\n",
        "# import Layer from the utils.py file\n",
        "from utils import Layer, load_tweets, process_tweet\n",
        "#from utils import\n"
      ],
      "execution_count": 4,
      "outputs": [
        {
          "output_type": "stream",
          "text": [
            "[nltk_data] Downloading package twitter_samples to /root/nltk_data...\n",
            "[nltk_data]   Unzipping corpora/twitter_samples.zip.\n",
            "[nltk_data] Downloading package stopwords to /root/nltk_data...\n",
            "[nltk_data]   Unzipping corpora/stopwords.zip.\n"
          ],
          "name": "stdout"
        }
      ]
    },
    {
      "cell_type": "code",
      "metadata": {
        "colab": {
          "base_uri": "https://localhost:8080/",
          "height": 68
        },
        "id": "_6J35mHQfjka",
        "outputId": "7b7ab5d4-c04c-4468-87d3-085d6964246a"
      },
      "source": [
        "# Create an array using trax.fastmath.numpy\n",
        "a = np.array(5.0)\n",
        "\n",
        "# View the returned array\n",
        "display(a)\n",
        "\n",
        "print(type(a))"
      ],
      "execution_count": 5,
      "outputs": [
        {
          "output_type": "stream",
          "text": [
            "WARNING:absl:No GPU/TPU found, falling back to CPU. (Set TF_CPP_MIN_LOG_LEVEL=0 and rerun for more info.)\n"
          ],
          "name": "stderr"
        },
        {
          "output_type": "display_data",
          "data": {
            "text/plain": [
              "DeviceArray(5., dtype=float32)"
            ]
          },
          "metadata": {
            "tags": []
          }
        },
        {
          "output_type": "stream",
          "text": [
            "<class 'jaxlib.xla_extension.DeviceArray'>\n"
          ],
          "name": "stdout"
        }
      ]
    },
    {
      "cell_type": "code",
      "metadata": {
        "id": "30ZNgWRohdn_"
      },
      "source": [
        "def f(x):\n",
        "    \n",
        "    # f = x^2\n",
        "    return (x**2)"
      ],
      "execution_count": 6,
      "outputs": []
    },
    {
      "cell_type": "code",
      "metadata": {
        "colab": {
          "base_uri": "https://localhost:8080/"
        },
        "id": "vAMqL9KphhY2",
        "outputId": "af605362-eaa6-4d97-e712-198c24d2342b"
      },
      "source": [
        "print(f\"f(a) for a={a} is {f(a)}\")"
      ],
      "execution_count": 7,
      "outputs": [
        {
          "output_type": "stream",
          "text": [
            "f(a) for a=5.0 is 25.0\n"
          ],
          "name": "stdout"
        }
      ]
    },
    {
      "cell_type": "code",
      "metadata": {
        "colab": {
          "base_uri": "https://localhost:8080/"
        },
        "id": "MAm6D8U7hkSO",
        "outputId": "12819ddb-b11a-4bd3-89dd-02058f9b778e"
      },
      "source": [
        "grad_f = trax.fastmath.grad(fun=f)  # df / dx - Gradient of function f(x) with respect to x\n",
        "\n",
        "# View the type of the retuned object (it's a function)\n",
        "type(grad_f)"
      ],
      "execution_count": 8,
      "outputs": [
        {
          "output_type": "execute_result",
          "data": {
            "text/plain": [
              "function"
            ]
          },
          "metadata": {
            "tags": []
          },
          "execution_count": 8
        }
      ]
    },
    {
      "cell_type": "code",
      "metadata": {
        "colab": {
          "base_uri": "https://localhost:8080/",
          "height": 34
        },
        "id": "dHTAYcMqhlNn",
        "outputId": "468772bf-baba-496e-ce9b-83c73d4fedd8"
      },
      "source": [
        "# Call the newly created function and pass in a value for x (the DeviceArray stored in 'a')\n",
        "grad_calculation = grad_f(a)\n",
        "\n",
        "# View the result of calling the grad_f function\n",
        "display(grad_calculation)"
      ],
      "execution_count": 9,
      "outputs": [
        {
          "output_type": "display_data",
          "data": {
            "text/plain": [
              "DeviceArray(10., dtype=float32)"
            ]
          },
          "metadata": {
            "tags": []
          }
        }
      ]
    },
    {
      "cell_type": "code",
      "metadata": {
        "colab": {
          "base_uri": "https://localhost:8080/"
        },
        "id": "TayPyt-0hqox",
        "outputId": "9baff08b-c231-4f98-a3b7-bc5b51ad6614"
      },
      "source": [
        "import numpy as np\n",
        "\n",
        "# Load positive and negative tweets\n",
        "all_positive_tweets, all_negative_tweets = load_tweets()\n",
        "\n",
        "# View the total number of positive and negative tweets.\n",
        "print(f\"The number of positive tweets: {len(all_positive_tweets)}\")\n",
        "print(f\"The number of negative tweets: {len(all_negative_tweets)}\")\n",
        "\n",
        "# Split positive set into validation and training\n",
        "val_pos   = all_positive_tweets[4000:] # generating validation set for positive tweets\n",
        "train_pos  = all_positive_tweets[:4000]# generating training set for positive tweets\n",
        "\n",
        "# Split negative set into validation and training\n",
        "val_neg   = all_negative_tweets[4000:] # generating validation set for negative tweets\n",
        "train_neg  = all_negative_tweets[:4000] # generating training set for nagative tweets\n",
        "\n",
        "# Combine training data into one set\n",
        "train_x = train_pos + train_neg \n",
        "\n",
        "# Combine validation data into one set\n",
        "val_x  = val_pos + val_neg\n",
        "\n",
        "# Set the labels for the training set (1 for positive, 0 for negative)\n",
        "train_y = np.append(np.ones(len(train_pos)), np.zeros(len(train_neg)))\n",
        "\n",
        "# Set the labels for the validation set (1 for positive, 0 for negative)\n",
        "val_y  = np.append(np.ones(len(val_pos)), np.zeros(len(val_neg)))\n",
        "\n",
        "print(f\"length of train_x {len(train_x)}\")\n",
        "print(f\"length of val_x {len(val_x)}\")"
      ],
      "execution_count": 10,
      "outputs": [
        {
          "output_type": "stream",
          "text": [
            "The number of positive tweets: 5000\n",
            "The number of negative tweets: 5000\n",
            "length of train_x 8000\n",
            "length of val_x 2000\n"
          ],
          "name": "stdout"
        }
      ]
    },
    {
      "cell_type": "code",
      "metadata": {
        "colab": {
          "base_uri": "https://localhost:8080/"
        },
        "id": "1MBr70CRhsHj",
        "outputId": "2473a723-d515-4e55-95de-7c351b5c3bcf"
      },
      "source": [
        "print(\"original tweet at training position 0\")\n",
        "print(train_pos[0])\n",
        "\n",
        "print(\"Tweet at training position 0 after processing:\")\n",
        "process_tweet(train_pos[0])"
      ],
      "execution_count": 11,
      "outputs": [
        {
          "output_type": "stream",
          "text": [
            "original tweet at training position 0\n",
            "#FollowFriday @France_Inte @PKuchly57 @Milipol_Paris for being top engaged members in my community this week :)\n",
            "Tweet at training position 0 after processing:\n"
          ],
          "name": "stdout"
        },
        {
          "output_type": "execute_result",
          "data": {
            "text/plain": [
              "['followfriday', 'top', 'engag', 'member', 'commun', 'week', ':)']"
            ]
          },
          "metadata": {
            "tags": []
          },
          "execution_count": 11
        }
      ]
    },
    {
      "cell_type": "code",
      "metadata": {
        "colab": {
          "base_uri": "https://localhost:8080/",
          "height": 1000
        },
        "id": "VBf3Q8ufh9Rj",
        "outputId": "eb44014f-5153-4e9a-f0e3-a158e120cdab"
      },
      "source": [
        "Vocab = {'__PAD__': 0, '__</e>__': 1, '__UNK__': 2} \n",
        "\n",
        "# Note that we build vocab using training data\n",
        "for tweet in train_x: \n",
        "    processed_tweet = process_tweet(tweet)\n",
        "    for word in processed_tweet:\n",
        "        if word not in Vocab: \n",
        "            Vocab[word] = len(Vocab)\n",
        "    \n",
        "print(\"Total words in vocab are\",len(Vocab))\n",
        "display(Vocab)"
      ],
      "execution_count": 12,
      "outputs": [
        {
          "output_type": "stream",
          "text": [
            "Total words in vocab are 9092\n"
          ],
          "name": "stdout"
        },
        {
          "output_type": "display_data",
          "data": {
            "text/plain": [
              "{'__PAD__': 0,\n",
              " '__</e>__': 1,\n",
              " '__UNK__': 2,\n",
              " 'followfriday': 3,\n",
              " 'top': 4,\n",
              " 'engag': 5,\n",
              " 'member': 6,\n",
              " 'commun': 7,\n",
              " 'week': 8,\n",
              " ':)': 9,\n",
              " 'hey': 10,\n",
              " 'jame': 11,\n",
              " 'odd': 12,\n",
              " ':/': 13,\n",
              " 'pleas': 14,\n",
              " 'call': 15,\n",
              " 'contact': 16,\n",
              " 'centr': 17,\n",
              " '02392441234': 18,\n",
              " 'abl': 19,\n",
              " 'assist': 20,\n",
              " 'mani': 21,\n",
              " 'thank': 22,\n",
              " 'listen': 23,\n",
              " 'last': 24,\n",
              " 'night': 25,\n",
              " 'bleed': 26,\n",
              " 'amaz': 27,\n",
              " 'track': 28,\n",
              " 'scotland': 29,\n",
              " 'congrat': 30,\n",
              " 'yeaaah': 31,\n",
              " 'yipppi': 32,\n",
              " 'accnt': 33,\n",
              " 'verifi': 34,\n",
              " 'rqst': 35,\n",
              " 'succeed': 36,\n",
              " 'got': 37,\n",
              " 'blue': 38,\n",
              " 'tick': 39,\n",
              " 'mark': 40,\n",
              " 'fb': 41,\n",
              " 'profil': 42,\n",
              " '15': 43,\n",
              " 'day': 44,\n",
              " 'one': 45,\n",
              " 'irresist': 46,\n",
              " 'flipkartfashionfriday': 47,\n",
              " 'like': 48,\n",
              " 'keep': 49,\n",
              " 'love': 50,\n",
              " 'custom': 51,\n",
              " 'wait': 52,\n",
              " 'long': 53,\n",
              " 'hope': 54,\n",
              " 'enjoy': 55,\n",
              " 'happi': 56,\n",
              " 'friday': 57,\n",
              " 'lwwf': 58,\n",
              " 'second': 59,\n",
              " 'thought': 60,\n",
              " '’': 61,\n",
              " 'enough': 62,\n",
              " 'time': 63,\n",
              " 'dd': 64,\n",
              " 'new': 65,\n",
              " 'short': 66,\n",
              " 'enter': 67,\n",
              " 'system': 68,\n",
              " 'sheep': 69,\n",
              " 'must': 70,\n",
              " 'buy': 71,\n",
              " 'jgh': 72,\n",
              " 'go': 73,\n",
              " 'bayan': 74,\n",
              " ':D': 75,\n",
              " 'bye': 76,\n",
              " 'act': 77,\n",
              " 'mischiev': 78,\n",
              " 'etl': 79,\n",
              " 'layer': 80,\n",
              " 'in-hous': 81,\n",
              " 'wareh': 82,\n",
              " 'app': 83,\n",
              " 'katamari': 84,\n",
              " 'well': 85,\n",
              " '…': 86,\n",
              " 'name': 87,\n",
              " 'impli': 88,\n",
              " ':p': 89,\n",
              " 'influenc': 90,\n",
              " 'big': 91,\n",
              " '...': 92,\n",
              " 'juici': 93,\n",
              " 'selfi': 94,\n",
              " 'follow': 95,\n",
              " 'perfect': 96,\n",
              " 'alreadi': 97,\n",
              " 'know': 98,\n",
              " \"what'\": 99,\n",
              " 'great': 100,\n",
              " 'opportun': 101,\n",
              " 'junior': 102,\n",
              " 'triathlet': 103,\n",
              " 'age': 104,\n",
              " '12': 105,\n",
              " '13': 106,\n",
              " 'gatorad': 107,\n",
              " 'seri': 108,\n",
              " 'get': 109,\n",
              " 'entri': 110,\n",
              " 'lay': 111,\n",
              " 'greet': 112,\n",
              " 'card': 113,\n",
              " 'rang': 114,\n",
              " 'print': 115,\n",
              " 'today': 116,\n",
              " 'job': 117,\n",
              " ':-)': 118,\n",
              " \"friend'\": 119,\n",
              " 'lunch': 120,\n",
              " 'yummm': 121,\n",
              " 'nostalgia': 122,\n",
              " 'tb': 123,\n",
              " 'ku': 124,\n",
              " 'id': 125,\n",
              " 'conflict': 126,\n",
              " 'help': 127,\n",
              " \"here'\": 128,\n",
              " 'screenshot': 129,\n",
              " 'work': 130,\n",
              " 'hi': 131,\n",
              " 'liv': 132,\n",
              " 'hello': 133,\n",
              " 'need': 134,\n",
              " 'someth': 135,\n",
              " 'u': 136,\n",
              " 'fm': 137,\n",
              " 'twitter': 138,\n",
              " '—': 139,\n",
              " 'sure': 140,\n",
              " 'thing': 141,\n",
              " 'dm': 142,\n",
              " 'x': 143,\n",
              " \"i'v\": 144,\n",
              " 'heard': 145,\n",
              " 'four': 146,\n",
              " 'season': 147,\n",
              " 'pretti': 148,\n",
              " 'dope': 149,\n",
              " 'penthous': 150,\n",
              " 'obv': 151,\n",
              " 'gobigorgohom': 152,\n",
              " 'fun': 153,\n",
              " \"y'all\": 154,\n",
              " 'yeah': 155,\n",
              " 'suppos': 156,\n",
              " 'lol': 157,\n",
              " 'chat': 158,\n",
              " 'bit': 159,\n",
              " 'youth': 160,\n",
              " '💅': 161,\n",
              " '🏽': 162,\n",
              " '💋': 163,\n",
              " 'seen': 164,\n",
              " 'year': 165,\n",
              " 'rest': 166,\n",
              " 'goe': 167,\n",
              " 'quickli': 168,\n",
              " 'bed': 169,\n",
              " 'music': 170,\n",
              " 'fix': 171,\n",
              " 'dream': 172,\n",
              " 'spiritu': 173,\n",
              " 'ritual': 174,\n",
              " 'festiv': 175,\n",
              " 'népal': 176,\n",
              " 'begin': 177,\n",
              " 'line-up': 178,\n",
              " 'left': 179,\n",
              " 'see': 180,\n",
              " 'sarah': 181,\n",
              " 'send': 182,\n",
              " 'us': 183,\n",
              " 'email': 184,\n",
              " 'bitsy@bitdefender.com': 185,\n",
              " \"we'll\": 186,\n",
              " 'asap': 187,\n",
              " 'kik': 188,\n",
              " 'hatessuc': 189,\n",
              " '32429': 190,\n",
              " 'kikm': 191,\n",
              " 'lgbt': 192,\n",
              " 'tinder': 193,\n",
              " 'nsfw': 194,\n",
              " 'akua': 195,\n",
              " 'cumshot': 196,\n",
              " 'come': 197,\n",
              " 'hous': 198,\n",
              " 'nsn_supplement': 199,\n",
              " 'effect': 200,\n",
              " 'press': 201,\n",
              " 'releas': 202,\n",
              " 'distribut': 203,\n",
              " 'result': 204,\n",
              " 'link': 205,\n",
              " 'remov': 206,\n",
              " 'pressreleas': 207,\n",
              " 'newsdistribut': 208,\n",
              " 'bam': 209,\n",
              " 'bestfriend': 210,\n",
              " 'lot': 211,\n",
              " 'warsaw': 212,\n",
              " '<3': 213,\n",
              " 'x46': 214,\n",
              " 'everyon': 215,\n",
              " 'watch': 216,\n",
              " 'documentari': 217,\n",
              " 'earthl': 218,\n",
              " 'youtub': 219,\n",
              " 'support': 220,\n",
              " 'buuut': 221,\n",
              " 'oh': 222,\n",
              " 'look': 223,\n",
              " 'forward': 224,\n",
              " 'visit': 225,\n",
              " 'next': 226,\n",
              " 'letsgetmessi': 227,\n",
              " 'jo': 228,\n",
              " 'make': 229,\n",
              " 'feel': 230,\n",
              " 'better': 231,\n",
              " 'never': 232,\n",
              " 'anyon': 233,\n",
              " 'kpop': 234,\n",
              " 'flesh': 235,\n",
              " 'good': 236,\n",
              " 'girl': 237,\n",
              " 'best': 238,\n",
              " 'wish': 239,\n",
              " 'reason': 240,\n",
              " 'epic': 241,\n",
              " 'soundtrack': 242,\n",
              " 'shout': 243,\n",
              " 'ad': 244,\n",
              " 'video': 245,\n",
              " 'playlist': 246,\n",
              " 'would': 247,\n",
              " 'dear': 248,\n",
              " 'jordan': 249,\n",
              " 'okay': 250,\n",
              " 'fake': 251,\n",
              " 'gameplay': 252,\n",
              " ';)': 253,\n",
              " 'haha': 254,\n",
              " 'im': 255,\n",
              " 'kid': 256,\n",
              " 'stuff': 257,\n",
              " 'exactli': 258,\n",
              " 'product': 259,\n",
              " 'line': 260,\n",
              " 'etsi': 261,\n",
              " 'shop': 262,\n",
              " 'check': 263,\n",
              " 'vacat': 264,\n",
              " 'recharg': 265,\n",
              " 'normal': 266,\n",
              " 'charger': 267,\n",
              " 'asleep': 268,\n",
              " 'talk': 269,\n",
              " 'sooo': 270,\n",
              " 'someon': 271,\n",
              " 'text': 272,\n",
              " 'ye': 273,\n",
              " 'bet': 274,\n",
              " \"he'll\": 275,\n",
              " 'fit': 276,\n",
              " 'hear': 277,\n",
              " 'speech': 278,\n",
              " 'piti': 279,\n",
              " 'green': 280,\n",
              " 'garden': 281,\n",
              " 'midnight': 282,\n",
              " 'sun': 283,\n",
              " 'beauti': 284,\n",
              " 'canal': 285,\n",
              " 'dasvidaniya': 286,\n",
              " 'till': 287,\n",
              " 'scout': 288,\n",
              " 'sg': 289,\n",
              " 'futur': 290,\n",
              " 'wlan': 291,\n",
              " 'pro': 292,\n",
              " 'confer': 293,\n",
              " 'asia': 294,\n",
              " 'chang': 295,\n",
              " 'lollipop': 296,\n",
              " '🍭': 297,\n",
              " 'nez': 298,\n",
              " 'agnezmo': 299,\n",
              " 'oley': 300,\n",
              " 'mama': 301,\n",
              " 'stand': 302,\n",
              " 'stronger': 303,\n",
              " 'god': 304,\n",
              " 'misti': 305,\n",
              " 'babi': 306,\n",
              " 'cute': 307,\n",
              " 'woohoo': 308,\n",
              " \"can't\": 309,\n",
              " 'sign': 310,\n",
              " 'yet': 311,\n",
              " 'still': 312,\n",
              " 'think': 313,\n",
              " 'mka': 314,\n",
              " 'liam': 315,\n",
              " 'access': 316,\n",
              " 'welcom': 317,\n",
              " 'stat': 318,\n",
              " 'arriv': 319,\n",
              " '1': 320,\n",
              " 'unfollow': 321,\n",
              " 'via': 322,\n",
              " 'surpris': 323,\n",
              " 'figur': 324,\n",
              " 'happybirthdayemilybett': 325,\n",
              " 'sweet': 326,\n",
              " 'talent': 327,\n",
              " '2': 328,\n",
              " 'plan': 329,\n",
              " 'drain': 330,\n",
              " 'gotta': 331,\n",
              " 'timezon': 332,\n",
              " 'parent': 333,\n",
              " 'proud': 334,\n",
              " 'least': 335,\n",
              " 'mayb': 336,\n",
              " 'sometim': 337,\n",
              " 'grade': 338,\n",
              " 'al': 339,\n",
              " 'grand': 340,\n",
              " 'manila_bro': 341,\n",
              " 'chosen': 342,\n",
              " 'let': 343,\n",
              " 'around': 344,\n",
              " '..': 345,\n",
              " 'side': 346,\n",
              " 'world': 347,\n",
              " 'eh': 348,\n",
              " 'take': 349,\n",
              " 'care': 350,\n",
              " 'final': 351,\n",
              " 'fuck': 352,\n",
              " 'weekend': 353,\n",
              " 'real': 354,\n",
              " 'x45': 355,\n",
              " 'join': 356,\n",
              " 'hushedcallwithfraydo': 357,\n",
              " 'gift': 358,\n",
              " 'yeahhh': 359,\n",
              " 'hushedpinwithsammi': 360,\n",
              " 'event': 361,\n",
              " 'might': 362,\n",
              " 'luv': 363,\n",
              " 'realli': 364,\n",
              " 'appreci': 365,\n",
              " 'share': 366,\n",
              " 'wow': 367,\n",
              " 'tom': 368,\n",
              " 'gym': 369,\n",
              " 'monday': 370,\n",
              " 'invit': 371,\n",
              " 'scope': 372,\n",
              " 'friend': 373,\n",
              " 'nude': 374,\n",
              " 'sleep': 375,\n",
              " 'birthday': 376,\n",
              " 'want': 377,\n",
              " 't-shirt': 378,\n",
              " 'cool': 379,\n",
              " 'haw': 380,\n",
              " 'phela': 381,\n",
              " 'mom': 382,\n",
              " 'obvious': 383,\n",
              " 'princ': 384,\n",
              " 'charm': 385,\n",
              " 'stage': 386,\n",
              " 'luck': 387,\n",
              " 'tyler': 388,\n",
              " 'hipster': 389,\n",
              " 'glass': 390,\n",
              " 'marti': 391,\n",
              " 'glad': 392,\n",
              " 'done': 393,\n",
              " 'afternoon': 394,\n",
              " 'read': 395,\n",
              " 'kahfi': 396,\n",
              " 'finish': 397,\n",
              " 'ohmyg': 398,\n",
              " 'yaya': 399,\n",
              " 'dub': 400,\n",
              " 'stalk': 401,\n",
              " 'ig': 402,\n",
              " 'gondooo': 403,\n",
              " 'moo': 404,\n",
              " 'tologooo': 405,\n",
              " 'becom': 406,\n",
              " 'detail': 407,\n",
              " 'zzz': 408,\n",
              " 'xx': 409,\n",
              " 'physiotherapi': 410,\n",
              " 'hashtag': 411,\n",
              " '💪': 412,\n",
              " 'monica': 413,\n",
              " 'miss': 414,\n",
              " 'sound': 415,\n",
              " 'morn': 416,\n",
              " \"that'\": 417,\n",
              " 'x43': 418,\n",
              " 'definit': 419,\n",
              " 'tri': 420,\n",
              " 'tonight': 421,\n",
              " 'took': 422,\n",
              " 'advic': 423,\n",
              " 'treviso': 424,\n",
              " 'concert': 425,\n",
              " 'citi': 426,\n",
              " 'countri': 427,\n",
              " \"i'll\": 428,\n",
              " 'start': 429,\n",
              " 'fine': 430,\n",
              " 'gorgeou': 431,\n",
              " 'xo': 432,\n",
              " 'oven': 433,\n",
              " 'roast': 434,\n",
              " 'garlic': 435,\n",
              " 'oliv': 436,\n",
              " 'oil': 437,\n",
              " 'dri': 438,\n",
              " 'tomato': 439,\n",
              " 'basil': 440,\n",
              " 'centuri': 441,\n",
              " 'tuna': 442,\n",
              " 'right': 443,\n",
              " 'back': 444,\n",
              " 'atchya': 445,\n",
              " 'even': 446,\n",
              " 'almost': 447,\n",
              " 'chanc': 448,\n",
              " 'cheer': 449,\n",
              " 'po': 450,\n",
              " 'ice': 451,\n",
              " 'cream': 452,\n",
              " 'agre': 453,\n",
              " '100': 454,\n",
              " 'heheheh': 455,\n",
              " 'that': 456,\n",
              " 'point': 457,\n",
              " 'stay': 458,\n",
              " 'home': 459,\n",
              " 'soon': 460,\n",
              " 'promis': 461,\n",
              " 'web': 462,\n",
              " 'whatsapp': 463,\n",
              " 'volta': 464,\n",
              " 'funcionar': 465,\n",
              " 'com': 466,\n",
              " 'iphon': 467,\n",
              " 'jailbroken': 468,\n",
              " 'later': 469,\n",
              " '34': 470,\n",
              " 'min': 471,\n",
              " 'leia': 472,\n",
              " 'appear': 473,\n",
              " 'hologram': 474,\n",
              " 'r2d2': 475,\n",
              " 'w': 476,\n",
              " 'messag': 477,\n",
              " 'obi': 478,\n",
              " 'wan': 479,\n",
              " 'sit': 480,\n",
              " 'luke': 481,\n",
              " 'inter': 482,\n",
              " '3': 483,\n",
              " 'ucl': 484,\n",
              " 'arsen': 485,\n",
              " 'small': 486,\n",
              " 'team': 487,\n",
              " 'pass': 488,\n",
              " '🚂': 489,\n",
              " 'dewsburi': 490,\n",
              " 'railway': 491,\n",
              " 'station': 492,\n",
              " 'dew': 493,\n",
              " 'west': 494,\n",
              " 'yorkshir': 495,\n",
              " '430': 496,\n",
              " 'smh': 497,\n",
              " '9:25': 498,\n",
              " 'live': 499,\n",
              " 'strang': 500,\n",
              " 'imagin': 501,\n",
              " 'megan': 502,\n",
              " 'masaantoday': 503,\n",
              " 'a4': 504,\n",
              " 'shweta': 505,\n",
              " 'tripathi': 506,\n",
              " '5': 507,\n",
              " '20': 508,\n",
              " 'kurta': 509,\n",
              " 'half': 510,\n",
              " 'number': 511,\n",
              " 'wsalelov': 512,\n",
              " 'ah': 513,\n",
              " 'larri': 514,\n",
              " 'anyway': 515,\n",
              " 'kinda': 516,\n",
              " 'goood': 517,\n",
              " 'life': 518,\n",
              " 'enn': 519,\n",
              " 'could': 520,\n",
              " 'warmup': 521,\n",
              " '15th': 522,\n",
              " 'bath': 523,\n",
              " 'dum': 524,\n",
              " 'andar': 525,\n",
              " 'ram': 526,\n",
              " 'sampath': 527,\n",
              " 'sona': 528,\n",
              " 'mohapatra': 529,\n",
              " 'samantha': 530,\n",
              " 'edward': 531,\n",
              " 'mein': 532,\n",
              " 'tulan': 533,\n",
              " 'razi': 534,\n",
              " 'wah': 535,\n",
              " 'josh': 536,\n",
              " 'alway': 537,\n",
              " 'smile': 538,\n",
              " 'pictur': 539,\n",
              " '16.20': 540,\n",
              " 'giveitup': 541,\n",
              " 'given': 542,\n",
              " 'ga': 543,\n",
              " 'subsidi': 544,\n",
              " 'initi': 545,\n",
              " 'propos': 546,\n",
              " 'delight': 547,\n",
              " 'yesterday': 548,\n",
              " 'x42': 549,\n",
              " 'lmaoo': 550,\n",
              " 'song': 551,\n",
              " 'ever': 552,\n",
              " 'shall': 553,\n",
              " 'littl': 554,\n",
              " 'throwback': 555,\n",
              " 'outli': 556,\n",
              " 'island': 557,\n",
              " 'cheung': 558,\n",
              " 'chau': 559,\n",
              " 'mui': 560,\n",
              " 'wo': 561,\n",
              " 'total': 562,\n",
              " 'differ': 563,\n",
              " 'kfckitchentour': 564,\n",
              " 'kitchen': 565,\n",
              " 'clean': 566,\n",
              " \"i'm\": 567,\n",
              " 'cusp': 568,\n",
              " 'test': 569,\n",
              " 'water': 570,\n",
              " 'reward': 571,\n",
              " 'arummzz': 572,\n",
              " \"let'\": 573,\n",
              " 'drive': 574,\n",
              " 'travel': 575,\n",
              " 'yogyakarta': 576,\n",
              " 'jeep': 577,\n",
              " 'indonesia': 578,\n",
              " 'instamood': 579,\n",
              " 'wanna': 580,\n",
              " 'skype': 581,\n",
              " 'may': 582,\n",
              " 'nice': 583,\n",
              " 'friendli': 584,\n",
              " 'pretend': 585,\n",
              " 'film': 586,\n",
              " 'congratul': 587,\n",
              " 'winner': 588,\n",
              " 'cheesydelight': 589,\n",
              " 'contest': 590,\n",
              " 'address': 591,\n",
              " 'guy': 592,\n",
              " 'market': 593,\n",
              " '24/7': 594,\n",
              " '14': 595,\n",
              " 'hour': 596,\n",
              " 'leav': 597,\n",
              " 'without': 598,\n",
              " 'delay': 599,\n",
              " 'actual': 600,\n",
              " 'easi': 601,\n",
              " 'guess': 602,\n",
              " 'train': 603,\n",
              " 'wd': 604,\n",
              " 'shift': 605,\n",
              " 'engin': 606,\n",
              " 'etc': 607,\n",
              " 'sunburn': 608,\n",
              " 'peel': 609,\n",
              " 'blog': 610,\n",
              " 'huge': 611,\n",
              " 'warm': 612,\n",
              " '☆': 613,\n",
              " 'complet': 614,\n",
              " 'triangl': 615,\n",
              " 'northern': 616,\n",
              " 'ireland': 617,\n",
              " 'sight': 618,\n",
              " 'smthng': 619,\n",
              " 'fr': 620,\n",
              " 'hug': 621,\n",
              " 'xoxo': 622,\n",
              " 'uu': 623,\n",
              " 'jaann': 624,\n",
              " 'topnewfollow': 625,\n",
              " 'connect': 626,\n",
              " 'wonder': 627,\n",
              " 'made': 628,\n",
              " 'fluffi': 629,\n",
              " 'insid': 630,\n",
              " 'pirouett': 631,\n",
              " 'moos': 632,\n",
              " 'trip': 633,\n",
              " 'philli': 634,\n",
              " 'decemb': 635,\n",
              " \"i'd\": 636,\n",
              " 'dude': 637,\n",
              " 'x41': 638,\n",
              " 'question': 639,\n",
              " 'flaw': 640,\n",
              " 'pain': 641,\n",
              " 'negat': 642,\n",
              " 'strength': 643,\n",
              " 'went': 644,\n",
              " 'solo': 645,\n",
              " 'move': 646,\n",
              " 'fav': 647,\n",
              " 'nirvana': 648,\n",
              " 'smell': 649,\n",
              " 'teen': 650,\n",
              " 'spirit': 651,\n",
              " 'rip': 652,\n",
              " 'ami': 653,\n",
              " 'winehous': 654,\n",
              " 'coupl': 655,\n",
              " 'tomhiddleston': 656,\n",
              " 'elizabetholsen': 657,\n",
              " 'yaytheylookgreat': 658,\n",
              " 'goodnight': 659,\n",
              " 'vid': 660,\n",
              " 'wake': 661,\n",
              " 'gonna': 662,\n",
              " 'shoot': 663,\n",
              " 'itti': 664,\n",
              " 'bitti': 665,\n",
              " 'teeni': 666,\n",
              " 'bikini': 667,\n",
              " 'much': 668,\n",
              " '4th': 669,\n",
              " 'togeth': 670,\n",
              " 'end': 671,\n",
              " 'xfile': 672,\n",
              " 'content': 673,\n",
              " 'rain': 674,\n",
              " 'fabul': 675,\n",
              " 'fantast': 676,\n",
              " '♡': 677,\n",
              " 'jb': 678,\n",
              " 'forev': 679,\n",
              " 'belieb': 680,\n",
              " 'nighti': 681,\n",
              " 'bug': 682,\n",
              " 'bite': 683,\n",
              " 'bracelet': 684,\n",
              " 'idea': 685,\n",
              " 'foundri': 686,\n",
              " 'game': 687,\n",
              " 'sens': 688,\n",
              " 'pic': 689,\n",
              " 'ef': 690,\n",
              " 'phone': 691,\n",
              " 'woot': 692,\n",
              " 'derek': 693,\n",
              " 'use': 694,\n",
              " 'parkshar': 695,\n",
              " 'gloucestershir': 696,\n",
              " 'aaaahhh': 697,\n",
              " 'man': 698,\n",
              " 'traffic': 699,\n",
              " 'stress': 700,\n",
              " 'reliev': 701,\n",
              " \"how'r\": 702,\n",
              " 'arbeloa': 703,\n",
              " 'turn': 704,\n",
              " '17': 705,\n",
              " 'omg': 706,\n",
              " 'say': 707,\n",
              " 'europ': 708,\n",
              " 'rise': 709,\n",
              " 'find': 710,\n",
              " 'hard': 711,\n",
              " 'believ': 712,\n",
              " 'uncount': 713,\n",
              " 'coz': 714,\n",
              " 'unlimit': 715,\n",
              " 'cours': 716,\n",
              " 'teamposit': 717,\n",
              " 'aldub': 718,\n",
              " '☕': 719,\n",
              " 'rita': 720,\n",
              " 'info': 721,\n",
              " \"we'd\": 722,\n",
              " 'way': 723,\n",
              " 'boy': 724,\n",
              " 'x40': 725,\n",
              " 'true': 726,\n",
              " 'sethi': 727,\n",
              " 'high': 728,\n",
              " 'exe': 729,\n",
              " 'skeem': 730,\n",
              " 'saam': 731,\n",
              " 'peopl': 732,\n",
              " 'polit': 733,\n",
              " 'izzat': 734,\n",
              " 'wese': 735,\n",
              " 'trust': 736,\n",
              " 'khawateen': 737,\n",
              " 'k': 738,\n",
              " 'sath': 739,\n",
              " 'mana': 740,\n",
              " 'kar': 741,\n",
              " 'deya': 742,\n",
              " 'sort': 743,\n",
              " 'smart': 744,\n",
              " 'hair': 745,\n",
              " 'tbh': 746,\n",
              " 'jacob': 747,\n",
              " 'g': 748,\n",
              " 'upgrad': 749,\n",
              " 'tee': 750,\n",
              " 'famili': 751,\n",
              " 'person': 752,\n",
              " 'two': 753,\n",
              " 'convers': 754,\n",
              " 'onlin': 755,\n",
              " 'mclaren': 756,\n",
              " 'fridayfeel': 757,\n",
              " 'tgif': 758,\n",
              " 'squar': 759,\n",
              " 'enix': 760,\n",
              " 'bissmillah': 761,\n",
              " 'ya': 762,\n",
              " 'allah': 763,\n",
              " \"we'r\": 764,\n",
              " 'socent': 765,\n",
              " 'startup': 766,\n",
              " 'drop': 767,\n",
              " 'your': 768,\n",
              " 'arnd': 769,\n",
              " 'town': 770,\n",
              " 'basic': 771,\n",
              " 'piss': 772,\n",
              " 'cup': 773,\n",
              " 'also': 774,\n",
              " 'terribl': 775,\n",
              " 'complic': 776,\n",
              " 'discuss': 777,\n",
              " 'snapchat': 778,\n",
              " 'lynettelow': 779,\n",
              " 'kikmenow': 780,\n",
              " 'snapm': 781,\n",
              " 'hot': 782,\n",
              " 'amazon': 783,\n",
              " 'kikmeguy': 784,\n",
              " 'defin': 785,\n",
              " 'grow': 786,\n",
              " 'sport': 787,\n",
              " 'rt': 788,\n",
              " 'rakyat': 789,\n",
              " 'write': 790,\n",
              " 'sinc': 791,\n",
              " 'mention': 792,\n",
              " 'fli': 793,\n",
              " 'fish': 794,\n",
              " 'promot': 795,\n",
              " 'post': 796,\n",
              " 'cyber': 797,\n",
              " 'ourdaughtersourprid': 798,\n",
              " 'mypapamyprid': 799,\n",
              " 'papa': 800,\n",
              " 'coach': 801,\n",
              " 'posit': 802,\n",
              " 'kha': 803,\n",
              " 'atleast': 804,\n",
              " 'x39': 805,\n",
              " 'mango': 806,\n",
              " \"lassi'\": 807,\n",
              " \"monty'\": 808,\n",
              " 'marvel': 809,\n",
              " 'though': 810,\n",
              " 'suspect': 811,\n",
              " 'meant': 812,\n",
              " '24': 813,\n",
              " 'hr': 814,\n",
              " 'touch': 815,\n",
              " 'kepler': 816,\n",
              " '452b': 817,\n",
              " 'chalna': 818,\n",
              " 'hai': 819,\n",
              " 'thankyou': 820,\n",
              " 'hazel': 821,\n",
              " 'food': 822,\n",
              " 'brooklyn': 823,\n",
              " 'pta': 824,\n",
              " 'awak': 825,\n",
              " 'okayi': 826,\n",
              " 'awww': 827,\n",
              " 'ha': 828,\n",
              " 'doc': 829,\n",
              " 'splendid': 830,\n",
              " 'spam': 831,\n",
              " 'folder': 832,\n",
              " 'amount': 833,\n",
              " 'nigeria': 834,\n",
              " 'claim': 835,\n",
              " 'rted': 836,\n",
              " 'leg': 837,\n",
              " 'hurt': 838,\n",
              " 'bad': 839,\n",
              " 'mine': 840,\n",
              " 'saturday': 841,\n",
              " 'thaaank': 842,\n",
              " 'puhon': 843,\n",
              " 'happinesss': 844,\n",
              " 'tnc': 845,\n",
              " 'prior': 846,\n",
              " 'notif': 847,\n",
              " 'fat': 848,\n",
              " 'co': 849,\n",
              " 'probabl': 850,\n",
              " 'ate': 851,\n",
              " 'yuna': 852,\n",
              " 'tamesid': 853,\n",
              " '´': 854,\n",
              " 'googl': 855,\n",
              " 'account': 856,\n",
              " 'scouser': 857,\n",
              " 'everyth': 858,\n",
              " 'zoe': 859,\n",
              " 'mate': 860,\n",
              " 'liter': 861,\n",
              " \"they'r\": 862,\n",
              " 'samee': 863,\n",
              " 'edgar': 864,\n",
              " 'updat': 865,\n",
              " 'log': 866,\n",
              " 'bring': 867,\n",
              " 'abe': 868,\n",
              " 'meet': 869,\n",
              " 'x38': 870,\n",
              " 'sigh': 871,\n",
              " 'dreamili': 872,\n",
              " 'pout': 873,\n",
              " 'eye': 874,\n",
              " 'quacketyquack': 875,\n",
              " 'funni': 876,\n",
              " 'happen': 877,\n",
              " 'phil': 878,\n",
              " 'em': 879,\n",
              " 'del': 880,\n",
              " 'rodder': 881,\n",
              " 'els': 882,\n",
              " 'play': 883,\n",
              " 'newest': 884,\n",
              " 'gamejam': 885,\n",
              " 'irish': 886,\n",
              " 'literatur': 887,\n",
              " 'inaccess': 888,\n",
              " \"kareena'\": 889,\n",
              " 'fan': 890,\n",
              " 'brain': 891,\n",
              " 'dot': 892,\n",
              " 'braindot': 893,\n",
              " 'fair': 894,\n",
              " 'rush': 895,\n",
              " 'either': 896,\n",
              " 'brandi': 897,\n",
              " '18': 898,\n",
              " 'carniv': 899,\n",
              " 'men': 900,\n",
              " 'put': 901,\n",
              " 'mask': 902,\n",
              " 'xavier': 903,\n",
              " 'forneret': 904,\n",
              " 'jennif': 905,\n",
              " 'site': 906,\n",
              " 'free': 907,\n",
              " '50.000': 908,\n",
              " '8': 909,\n",
              " 'ball': 910,\n",
              " 'pool': 911,\n",
              " 'coin': 912,\n",
              " 'edit': 913,\n",
              " 'trish': 914,\n",
              " '♥': 915,\n",
              " 'grate': 916,\n",
              " 'three': 917,\n",
              " 'comment': 918,\n",
              " 'wakeup': 919,\n",
              " 'besid': 920,\n",
              " 'dirti': 921,\n",
              " 'sex': 922,\n",
              " 'lmaooo': 923,\n",
              " '😤': 924,\n",
              " 'loui': 925,\n",
              " \"he'\": 926,\n",
              " 'throw': 927,\n",
              " 'caus': 928,\n",
              " 'inspir': 929,\n",
              " 'ff': 930,\n",
              " 'twoof': 931,\n",
              " 'gr8': 932,\n",
              " 'wkend': 933,\n",
              " 'kind': 934,\n",
              " 'exhaust': 935,\n",
              " 'word': 936,\n",
              " 'cheltenham': 937,\n",
              " 'area': 938,\n",
              " 'kale': 939,\n",
              " 'crisp': 940,\n",
              " 'ruin': 941,\n",
              " 'x37': 942,\n",
              " 'open': 943,\n",
              " 'worldwid': 944,\n",
              " 'outta': 945,\n",
              " 'sfvbeta': 946,\n",
              " 'vantast': 947,\n",
              " 'xcylin': 948,\n",
              " 'bundl': 949,\n",
              " 'show': 950,\n",
              " 'internet': 951,\n",
              " 'price': 952,\n",
              " 'realisticli': 953,\n",
              " 'pay': 954,\n",
              " 'net': 955,\n",
              " 'educ': 956,\n",
              " 'power': 957,\n",
              " 'weapon': 958,\n",
              " 'nelson': 959,\n",
              " 'mandela': 960,\n",
              " 'recent': 961,\n",
              " 'j': 962,\n",
              " 'chenab': 963,\n",
              " 'flow': 964,\n",
              " 'pakistan': 965,\n",
              " 'incredibleindia': 966,\n",
              " 'teenchoic': 967,\n",
              " 'choiceinternationalartist': 968,\n",
              " 'superjunior': 969,\n",
              " 'caught': 970,\n",
              " 'first': 971,\n",
              " 'salmon': 972,\n",
              " 'super-blend': 973,\n",
              " 'project': 974,\n",
              " 'youth@bipolaruk.org.uk': 975,\n",
              " 'awesom': 976,\n",
              " 'stream': 977,\n",
              " 'alma': 978,\n",
              " 'mater': 979,\n",
              " 'highschoolday': 980,\n",
              " 'clientvisit': 981,\n",
              " 'faith': 982,\n",
              " 'christian': 983,\n",
              " 'school': 984,\n",
              " 'lizaminnelli': 985,\n",
              " 'upcom': 986,\n",
              " 'uk': 987,\n",
              " '😄': 988,\n",
              " 'singl': 989,\n",
              " 'hill': 990,\n",
              " 'everi': 991,\n",
              " 'beat': 992,\n",
              " 'wrong': 993,\n",
              " 'readi': 994,\n",
              " 'natur': 995,\n",
              " 'pefumeri': 996,\n",
              " 'workshop': 997,\n",
              " 'neal': 998,\n",
              " 'yard': 999,\n",
              " ...}"
            ]
          },
          "metadata": {
            "tags": []
          }
        }
      ]
    },
    {
      "cell_type": "code",
      "metadata": {
        "id": "icfr_7C9h-Y-"
      },
      "source": [
        "def tweet_to_tensor(tweet, vocab_dict, unk_token='__UNK__', verbose=False):\n",
        "   \n",
        "    word_l = process_tweet(tweet)\n",
        "    \n",
        "    if verbose:\n",
        "        print(\"List of words from the processed tweet:\")\n",
        "        print(word_l)\n",
        "        \n",
        "   \n",
        "    tensor_l = []\n",
        "    \n",
        "    unk_ID = vocab_dict[unk_token]\n",
        "    \n",
        "    if verbose:\n",
        "        print(f\"The unique integer ID for the unk_token is {unk_ID}\")\n",
        "        \n",
        "    for word in word_l:\n",
        "        \n",
        "        word_ID = vocab_dict[word] if word in vocab_dict else unk_ID\n",
        "   \n",
        "        tensor_l.append(word_ID) \n",
        "    \n",
        "    return tensor_l"
      ],
      "execution_count": 13,
      "outputs": []
    },
    {
      "cell_type": "code",
      "metadata": {
        "colab": {
          "base_uri": "https://localhost:8080/"
        },
        "id": "f-e-FCPuiEmU",
        "outputId": "a74eca22-499f-4a0a-fd0f-f7f9d8161dc3"
      },
      "source": [
        "print(\"Actual tweet is\\n\", val_pos[0])\n",
        "print(\"\\nTensor of tweet:\\n\", tweet_to_tensor(val_pos[0], vocab_dict=Vocab))"
      ],
      "execution_count": 14,
      "outputs": [
        {
          "output_type": "stream",
          "text": [
            "Actual tweet is\n",
            " Bro:U wan cut hair anot,ur hair long Liao bo\n",
            "Me:since ord liao,take it easy lor treat as save $ leave it longer :)\n",
            "Bro:LOL Sibei xialan\n",
            "\n",
            "Tensor of tweet:\n",
            " [1065, 136, 479, 2351, 745, 8146, 1123, 745, 53, 2, 2672, 791, 2, 2, 349, 601, 2, 3489, 1017, 597, 4559, 9, 1065, 157, 2, 2]\n"
          ],
          "name": "stdout"
        }
      ]
    },
    {
      "cell_type": "code",
      "metadata": {
        "id": "7iNPXiMpiI-4"
      },
      "source": [
        "def data_generator(data_pos, data_neg, batch_size, loop, vocab_dict, shuffle=False):\n",
        "    \n",
        "    assert batch_size % 2 == 0\n",
        "    \n",
        "    n_to_take = batch_size // 2\n",
        "    \n",
        "    pos_index = 0\n",
        "    neg_index = 0\n",
        "    \n",
        "    len_data_pos = len(data_pos)\n",
        "    len_data_neg = len(data_neg)\n",
        "    \n",
        "    pos_index_lines = list(range(len_data_pos))\n",
        "    neg_index_lines = list(range(len_data_neg))\n",
        "    \n",
        "    if shuffle:\n",
        "        rnd.shuffle(pos_index_lines)\n",
        "        rnd.shuffle(neg_index_lines)\n",
        "        \n",
        "    stop = False\n",
        "    \n",
        "    while not stop:  \n",
        "        \n",
        "        batch = []\n",
        "        \n",
        "        for i in range(n_to_take):\n",
        "                    \n",
        "            if pos_index >= len_data_pos: \n",
        "                \n",
        "                if not loop:\n",
        "                    stop = True;\n",
        "                    break;\n",
        "                \n",
        "                pos_index = 0\n",
        "                \n",
        "                if shuffle:\n",
        "                \n",
        "                    rnd.shuffle(pos_index_lines)\n",
        "                    \n",
        "           \n",
        "            tweet = data_pos[pos_index_lines[pos_index]]\n",
        "            \n",
        "            tensor = tweet_to_tensor(tweet, vocab_dict)\n",
        "            \n",
        "            batch.append(tensor)\n",
        "            \n",
        "            \n",
        "            pos_index = pos_index + 1\n",
        "\n",
        "        for i in range(n_to_take):\n",
        "            \n",
        "            if neg_index >= len_data_neg:\n",
        "                \n",
        "                if not loop:\n",
        "                    stop = True;\n",
        "                    break;\n",
        "                    \n",
        "                neg_index = 0\n",
        "                \n",
        "                if shuffle:\n",
        "            \n",
        "                    rnd.shuffle(neg_index_lines)\n",
        "            \n",
        "            tweet = data_neg[neg_index_lines[neg_index]]\n",
        "            \n",
        "            tensor = tweet_to_tensor(tweet, vocab_dict)\n",
        "            \n",
        "            batch.append(tensor)\n",
        "            \n",
        "            neg_index += 1\n",
        "\n",
        "        if stop:\n",
        "            break;\n",
        "\n",
        "        pos_index += n_to_take\n",
        "        \n",
        "        neg_index += n_to_take\n",
        "        \n",
        "        max_len = max([len(t) for t in batch]) \n",
        "        \n",
        "        tensor_pad_l = []\n",
        "        \n",
        "        for tensor in batch:\n",
        "\n",
        "            n_pad = max_len - len(tensor)\n",
        "            \n",
        "            pad_l = [0]*n_pad\n",
        "            \n",
        "            tensor_pad = tensor + pad_l\n",
        "            \n",
        "            \n",
        "            tensor_pad_l.append(tensor_pad)\n",
        "\n",
        "       \n",
        "        inputs = np.array(tensor_pad_l)\n",
        "  \n",
        "        \n",
        "        target_pos = [1]*n_to_take\n",
        "        \n",
        "        \n",
        "        target_neg = [0]*n_to_take\n",
        "        \n",
        "       \n",
        "        target_l = target_pos + target_neg\n",
        "        \n",
        "       \n",
        "        targets = np.array(target_l)\n",
        "\n",
        "        example_weights = np.ones_like(targets)\n",
        "        \n",
        "\n",
        "        yield inputs, targets, example_weights"
      ],
      "execution_count": 15,
      "outputs": []
    },
    {
      "cell_type": "code",
      "metadata": {
        "colab": {
          "base_uri": "https://localhost:8080/"
        },
        "id": "xM6qiEduiPzI",
        "outputId": "7b2ccdd0-d650-4f08-9433-355542181694"
      },
      "source": [
        "rnd.seed(30) \n",
        "\n",
        "# Create the training data generator\n",
        "def train_generator(batch_size, shuffle = False):\n",
        "    return data_generator(train_pos, train_neg, batch_size, True, Vocab, shuffle)\n",
        "\n",
        "# Create the validation data generator\n",
        "def val_generator(batch_size, shuffle = False):\n",
        "    return data_generator(val_pos, val_neg, batch_size, True, Vocab, shuffle)\n",
        "\n",
        "# Create the validation data generator\n",
        "def test_generator(batch_size, shuffle = False):\n",
        "    return data_generator(val_pos, val_neg, batch_size, False, Vocab, shuffle)\n",
        "\n",
        "# Get a batch from the train_generator and inspect.\n",
        "inputs, targets, example_weights = next(train_generator(4, shuffle=True))\n",
        "\n",
        "# this will print a list of 4 tensors padded with zeros\n",
        "print(f'Inputs: {inputs}')\n",
        "print(f'Targets: {targets}')\n",
        "print(f'Example Weights: {example_weights}')"
      ],
      "execution_count": 16,
      "outputs": [
        {
          "output_type": "stream",
          "text": [
            "Inputs: [[2005 4451 3201    9    0    0    0    0    0    0    0]\n",
            " [4954  567 2000 1454 5174 3499  141 3499  130  459    9]\n",
            " [3761  109  136  583 2930 3969    0    0    0    0    0]\n",
            " [ 250 3761    0    0    0    0    0    0    0    0    0]]\n",
            "Targets: [1 1 0 0]\n",
            "Example Weights: [1 1 1 1]\n"
          ],
          "name": "stdout"
        }
      ]
    },
    {
      "cell_type": "code",
      "metadata": {
        "id": "HoyPYOFLiTTO"
      },
      "source": [
        "class Relu(Layer):\n",
        "    def forward(self, x):\n",
        "       \n",
        "        activation = np.maximum(x,0)\n",
        "\n",
        "        \n",
        "        return activation"
      ],
      "execution_count": 17,
      "outputs": []
    },
    {
      "cell_type": "code",
      "metadata": {
        "id": "6RrEGczoiaXh"
      },
      "source": [
        "from trax import fastmath\n",
        "\n",
        "# use the numpy module from trax\n",
        "np = fastmath.numpy\n",
        "\n",
        "# use the fastmath.random module from trax\n",
        "random = fastmath.random"
      ],
      "execution_count": 18,
      "outputs": []
    },
    {
      "cell_type": "code",
      "metadata": {
        "colab": {
          "base_uri": "https://localhost:8080/",
          "height": 136
        },
        "id": "5u9e3fRXibvm",
        "outputId": "2138b9fe-9ebb-4f35-e48b-026aa950db24"
      },
      "source": [
        "tmp_key = random.get_prng(seed=1)\n",
        "print(\"The random seed generated by random.get_prng\")\n",
        "display(tmp_key)\n",
        "\n",
        "print(\"choose a matrix with 2 rows and 3 columns\")\n",
        "tmp_shape=(2,3)\n",
        "display(tmp_shape)\n",
        "\n",
        "\n",
        "tmp_weight = trax.fastmath.random.normal(key=tmp_key, shape=tmp_shape)\n",
        "\n",
        "print(\"Weight matrix generated with a normal distribution with mean 0 and stdev of 1\")\n",
        "display(tmp_weight)"
      ],
      "execution_count": 19,
      "outputs": [
        {
          "output_type": "stream",
          "text": [
            "The random seed generated by random.get_prng\n"
          ],
          "name": "stdout"
        },
        {
          "output_type": "display_data",
          "data": {
            "text/plain": [
              "DeviceArray([0, 1], dtype=uint32)"
            ]
          },
          "metadata": {
            "tags": []
          }
        },
        {
          "output_type": "stream",
          "text": [
            "choose a matrix with 2 rows and 3 columns\n"
          ],
          "name": "stdout"
        },
        {
          "output_type": "display_data",
          "data": {
            "text/plain": [
              "(2, 3)"
            ]
          },
          "metadata": {
            "tags": []
          }
        },
        {
          "output_type": "stream",
          "text": [
            "Weight matrix generated with a normal distribution with mean 0 and stdev of 1\n"
          ],
          "name": "stdout"
        },
        {
          "output_type": "display_data",
          "data": {
            "text/plain": [
              "DeviceArray([[ 0.957307  , -0.9699291 ,  1.0070664 ],\n",
              "             [ 0.36619025,  0.17294823,  0.29092228]], dtype=float32)"
            ]
          },
          "metadata": {
            "tags": []
          }
        }
      ]
    },
    {
      "cell_type": "code",
      "metadata": {
        "id": "01ULVVSKiia7"
      },
      "source": [
        "class Dense(Layer):\n",
        "\n",
        "    # __init__ is implemented for you\n",
        "    def __init__(self, n_units, init_stdev=0.1):\n",
        "        \n",
        "        # Set the number of units in this layer\n",
        "        self._n_units = n_units\n",
        "        self._init_stdev = 0.1\n",
        "\n",
        "    # Please implement 'forward()'\n",
        "    def forward(self, x):\n",
        "\n",
        "\n",
        "        dense = np.dot(x, self.weights) \n",
        "        \n",
        "        return dense\n",
        "\n",
        "    # init_weights\n",
        "    def init_weights_and_state(self, input_signature, random_key):\n",
        "        \n",
        "\n",
        "        input_shape = input_signature.shape\n",
        "\n",
        "         \n",
        "        w = self._init_stdev * random.normal(\n",
        "            key = random_key, shape = (input_shape[-1], self._n_units))\n",
        "        \n",
        "        self.weights = w\n",
        "        return self.weights"
      ],
      "execution_count": 20,
      "outputs": []
    },
    {
      "cell_type": "code",
      "metadata": {
        "colab": {
          "base_uri": "https://localhost:8080/",
          "height": 34
        },
        "id": "BXVV6rtbikQ7",
        "outputId": "feb260c9-59d0-4f32-f962-7b7d70814f31"
      },
      "source": [
        "tmp_embed = tl.Embedding(vocab_size=3, d_feature=2)\n",
        "display(tmp_embed)"
      ],
      "execution_count": 21,
      "outputs": [
        {
          "output_type": "display_data",
          "data": {
            "text/plain": [
              "Embedding_3_2"
            ]
          },
          "metadata": {
            "tags": []
          }
        }
      ]
    },
    {
      "cell_type": "code",
      "metadata": {
        "colab": {
          "base_uri": "https://localhost:8080/",
          "height": 85
        },
        "id": "6DXEa9Fein0j",
        "outputId": "198c0d61-5fe3-4fd1-f310-49a1d470a5df"
      },
      "source": [
        "\n",
        "tmp_embed = np.array([[1,2,3,],\n",
        "                    [4,5,6]\n",
        "                   ])\n",
        "\n",
        "# take the mean along axis 0\n",
        "print(\"The mean along axis 0 creates a vector whose length equals the vocabulary size\")\n",
        "display(np.mean(tmp_embed,axis=0))\n",
        "\n",
        "print(\"The mean along axis 1 creates a vector whose length equals the number of elements in a word embedding\")\n",
        "display(np.mean(tmp_embed,axis=1))"
      ],
      "execution_count": 22,
      "outputs": [
        {
          "output_type": "stream",
          "text": [
            "The mean along axis 0 creates a vector whose length equals the vocabulary size\n"
          ],
          "name": "stdout"
        },
        {
          "output_type": "display_data",
          "data": {
            "text/plain": [
              "DeviceArray([2.5, 3.5, 4.5], dtype=float32)"
            ]
          },
          "metadata": {
            "tags": []
          }
        },
        {
          "output_type": "stream",
          "text": [
            "The mean along axis 1 creates a vector whose length equals the number of elements in a word embedding\n"
          ],
          "name": "stdout"
        },
        {
          "output_type": "display_data",
          "data": {
            "text/plain": [
              "DeviceArray([2., 5.], dtype=float32)"
            ]
          },
          "metadata": {
            "tags": []
          }
        }
      ]
    },
    {
      "cell_type": "code",
      "metadata": {
        "id": "_0ruP_Hgisg5"
      },
      "source": [
        "def classifier(vocab_size=len(Vocab), embedding_dim=256, output_dim=2, mode='train'):\n",
        "        \n",
        "\n",
        "    embed_layer = tl.Embedding(\n",
        "        vocab_size=vocab_size, # Size of the vocabulary\n",
        "        d_feature=embedding_dim)  # Embedding dimension\n",
        "    \n",
        "    # Create a mean layer, to create an \"average\" word embedding\n",
        "    mean_layer = tl.Mean(axis=1)\n",
        "    \n",
        "    # Create a dense layer, one unit for each output\n",
        "    dense_output_layer = tl.Dense(n_units = output_dim)\n",
        "\n",
        "    \n",
        "    # Create the log softmax layer (no parameters needed)\n",
        "    log_softmax_layer = tl.LogSoftmax()\n",
        "    \n",
        "    \n",
        "    model = tl.Serial(\n",
        "      embed_layer,  # embedding layer\n",
        "      mean_layer, # mean layer\n",
        "      dense_output_layer, # dense output layer \n",
        "      log_softmax_layer # log softmax layer\n",
        "    )  \n",
        "    \n",
        "    # return the model of type\n",
        "    return model"
      ],
      "execution_count": 23,
      "outputs": []
    },
    {
      "cell_type": "code",
      "metadata": {
        "id": "FMbUpKR1iyEK"
      },
      "source": [
        "from trax.supervised import training\n",
        "\n",
        "batch_size = 16\n",
        "rnd.seed(271)\n",
        "\n",
        "train_task = training.TrainTask(\n",
        "    labeled_data=train_generator(batch_size=batch_size, shuffle=True),\n",
        "    loss_layer=tl.CrossEntropyLoss(),\n",
        "    optimizer=trax.optimizers.Adam(0.01),\n",
        "    n_steps_per_checkpoint=10,\n",
        ")\n",
        "\n",
        "eval_task = training.EvalTask(\n",
        "    labeled_data=val_generator(batch_size=batch_size, shuffle=True),\n",
        "    metrics=[tl.CrossEntropyLoss(), tl.Accuracy()],\n",
        ")\n",
        "\n",
        "model = classifier()"
      ],
      "execution_count": 24,
      "outputs": []
    },
    {
      "cell_type": "code",
      "metadata": {
        "colab": {
          "base_uri": "https://localhost:8080/"
        },
        "id": "wKi6f7ywizCW",
        "outputId": "67cd2d2f-133d-42f4-c535-e05ac2585f64"
      },
      "source": [
        "output_dir = '~/model/'\n",
        "output_dir_expand = os.path.expanduser(output_dir)\n",
        "print(output_dir_expand)"
      ],
      "execution_count": 25,
      "outputs": [
        {
          "output_type": "stream",
          "text": [
            "/root/model/\n"
          ],
          "name": "stdout"
        }
      ]
    },
    {
      "cell_type": "code",
      "metadata": {
        "id": "9ZN-hQ-Ei2oF"
      },
      "source": [
        "def train_model(classifier, train_task, eval_task, n_steps, output_dir):\n",
        "    \n",
        "    training_loop = training.Loop(\n",
        "                                classifier,  # The learning model\n",
        "                                train_task,  # The training task\n",
        "                                eval_tasks = [eval_task], # The evaluation task\n",
        "                                output_dir = output_dir,\n",
        "                                ) # The output directory\n",
        "\n",
        "    training_loop.run(n_steps = n_steps)\n",
        "\n",
        "    # Return the training_loop, since it has the model.\n",
        "    return training_loop"
      ],
      "execution_count": 26,
      "outputs": []
    },
    {
      "cell_type": "code",
      "metadata": {
        "colab": {
          "base_uri": "https://localhost:8080/"
        },
        "id": "dObuThe_i9wp",
        "outputId": "0ddfe11f-0861-4152-b1c9-2a663ee17d5a"
      },
      "source": [
        "training_loop = train_model(model, train_task, eval_task, 100, output_dir_expand)"
      ],
      "execution_count": 27,
      "outputs": [
        {
          "output_type": "stream",
          "text": [
            "\n",
            "Step      1: Total number of trainable weights: 2328066\n",
            "Step      1: Ran 1 train steps in 1.60 secs\n",
            "Step      1: train CrossEntropyLoss |  0.69488102\n",
            "Step      1: eval  CrossEntropyLoss |  0.68353546\n",
            "Step      1: eval          Accuracy |  0.50000000\n",
            "\n",
            "Step     10: Ran 9 train steps in 6.25 secs\n",
            "Step     10: train CrossEntropyLoss |  0.64237189\n",
            "Step     10: eval  CrossEntropyLoss |  0.58595258\n",
            "Step     10: eval          Accuracy |  0.68750000\n",
            "\n",
            "Step     20: Ran 10 train steps in 3.59 secs\n",
            "Step     20: train CrossEntropyLoss |  0.44516355\n",
            "Step     20: eval  CrossEntropyLoss |  0.28725046\n",
            "Step     20: eval          Accuracy |  1.00000000\n",
            "\n",
            "Step     30: Ran 10 train steps in 2.62 secs\n",
            "Step     30: train CrossEntropyLoss |  0.22647271\n",
            "Step     30: eval  CrossEntropyLoss |  0.14396974\n",
            "Step     30: eval          Accuracy |  1.00000000\n",
            "\n",
            "Step     40: Ran 10 train steps in 1.83 secs\n",
            "Step     40: train CrossEntropyLoss |  0.14929722\n",
            "Step     40: eval  CrossEntropyLoss |  0.10895798\n",
            "Step     40: eval          Accuracy |  1.00000000\n",
            "\n",
            "Step     50: Ran 10 train steps in 0.91 secs\n",
            "Step     50: train CrossEntropyLoss |  0.05390342\n",
            "Step     50: eval  CrossEntropyLoss |  0.12141082\n",
            "Step     50: eval          Accuracy |  0.93750000\n",
            "\n",
            "Step     60: Ran 10 train steps in 1.81 secs\n",
            "Step     60: train CrossEntropyLoss |  0.06908693\n",
            "Step     60: eval  CrossEntropyLoss |  0.02677259\n",
            "Step     60: eval          Accuracy |  1.00000000\n",
            "\n",
            "Step     70: Ran 10 train steps in 0.95 secs\n",
            "Step     70: train CrossEntropyLoss |  0.04775281\n",
            "Step     70: eval  CrossEntropyLoss |  0.00677174\n",
            "Step     70: eval          Accuracy |  1.00000000\n",
            "\n",
            "Step     80: Ran 10 train steps in 0.97 secs\n",
            "Step     80: train CrossEntropyLoss |  0.05037550\n",
            "Step     80: eval  CrossEntropyLoss |  0.00262381\n",
            "Step     80: eval          Accuracy |  1.00000000\n",
            "\n",
            "Step     90: Ran 10 train steps in 1.86 secs\n",
            "Step     90: train CrossEntropyLoss |  0.02876580\n",
            "Step     90: eval  CrossEntropyLoss |  0.00067307\n",
            "Step     90: eval          Accuracy |  1.00000000\n",
            "\n",
            "Step    100: Ran 10 train steps in 1.02 secs\n",
            "Step    100: train CrossEntropyLoss |  0.01049951\n",
            "Step    100: eval  CrossEntropyLoss |  0.00006756\n",
            "Step    100: eval          Accuracy |  1.00000000\n"
          ],
          "name": "stdout"
        }
      ]
    },
    {
      "cell_type": "code",
      "metadata": {
        "colab": {
          "base_uri": "https://localhost:8080/"
        },
        "id": "5iaHU-MzsLXP",
        "outputId": "fd3fe69a-23d0-4f65-b610-7fde5040be35"
      },
      "source": [
        "tmp_train_generator = train_generator(16)\n",
        "\n",
        "# get one batch\n",
        "tmp_batch = next(tmp_train_generator)\n",
        "\n",
        "# Position 0 has the model inputs (tweets as tensors)\n",
        "# position 1 has the targets (the actual labels)\n",
        "tmp_inputs, tmp_targets, tmp_example_weights = tmp_batch\n",
        "\n",
        "print(f\"The batch is a tuple of length {len(tmp_batch)} because position 0 contains the tweets, and position 1 contains the targets.\") \n",
        "print(f\"The shape of the tweet tensors is {tmp_inputs.shape} (num of examples, length of tweet tensors)\")\n",
        "print(f\"The shape of the labels is {tmp_targets.shape}, which is the batch size.\")\n",
        "print(f\"The shape of the example_weights is {tmp_example_weights.shape}, which is the same as inputs/targets size.\")"
      ],
      "execution_count": 28,
      "outputs": [
        {
          "output_type": "stream",
          "text": [
            "The batch is a tuple of length 3 because position 0 contains the tweets, and position 1 contains the targets.\n",
            "The shape of the tweet tensors is (16, 15) (num of examples, length of tweet tensors)\n",
            "The shape of the labels is (16,), which is the batch size.\n",
            "The shape of the example_weights is (16,), which is the same as inputs/targets size.\n"
          ],
          "name": "stdout"
        }
      ]
    },
    {
      "cell_type": "code",
      "metadata": {
        "colab": {
          "base_uri": "https://localhost:8080/"
        },
        "id": "KbMF1Hf-sPNt",
        "outputId": "38f5acd3-edd4-480a-8466-69c1ab71e5e5"
      },
      "source": [
        "tmp_pred = training_loop.eval_model(tmp_inputs)\n",
        "print(f\"The prediction shape is {tmp_pred.shape}, num of tensor_tweets as rows\")\n",
        "print(\"Column 0 is the probability of a negative sentiment (class 0)\")\n",
        "print(\"Column 1 is the probability of a positive sentiment (class 1)\")\n",
        "print()\n",
        "print(\"View the prediction array\")\n",
        "tmp_pred"
      ],
      "execution_count": 29,
      "outputs": [
        {
          "output_type": "stream",
          "text": [
            "The prediction shape is (16, 2), num of tensor_tweets as rows\n",
            "Column 0 is the probability of a negative sentiment (class 0)\n",
            "Column 1 is the probability of a positive sentiment (class 1)\n",
            "\n",
            "View the prediction array\n"
          ],
          "name": "stdout"
        },
        {
          "output_type": "execute_result",
          "data": {
            "text/plain": [
              "DeviceArray([[-8.4380684e+00, -2.1648407e-04],\n",
              "             [-9.1697912e+00, -1.0395050e-04],\n",
              "             [-8.4653263e+00, -2.1076202e-04],\n",
              "             [-8.5329075e+00, -1.9693375e-04],\n",
              "             [-6.3755035e+00, -1.7042160e-03],\n",
              "             [-7.8908296e+00, -3.7431717e-04],\n",
              "             [-8.8222256e+00, -1.4734268e-04],\n",
              "             [-4.9443398e+00, -7.1492195e-03],\n",
              "             [-2.4149418e-03, -6.0272913e+00],\n",
              "             [-2.4948120e-03, -5.9947681e+00],\n",
              "             [-3.6716461e-04, -7.9102879e+00],\n",
              "             [-4.7683716e-07, -1.5010769e+01],\n",
              "             [-8.7723732e-03, -4.7405248e+00],\n",
              "             [-1.1200905e-03, -6.7948041e+00],\n",
              "             [-2.3834705e-03, -6.0403881e+00],\n",
              "             [-5.5360794e-04, -7.4992566e+00]], dtype=float32)"
            ]
          },
          "metadata": {
            "tags": []
          },
          "execution_count": 29
        }
      ]
    },
    {
      "cell_type": "code",
      "metadata": {
        "colab": {
          "base_uri": "https://localhost:8080/"
        },
        "id": "IhqtuizHsQH2",
        "outputId": "3e20378c-496d-41e4-b64e-608af2e36395"
      },
      "source": [
        "tmp_is_positive = tmp_pred[:,1] > tmp_pred[:,0]\n",
        "for i, p in enumerate(tmp_is_positive):\n",
        "    print(f\"Neg log prob {tmp_pred[i,0]:.4f}\\tPos log prob {tmp_pred[i,1]:.4f}\\t is positive? {p}\\t actual {tmp_targets[i]}\")"
      ],
      "execution_count": 30,
      "outputs": [
        {
          "output_type": "stream",
          "text": [
            "Neg log prob -8.4381\tPos log prob -0.0002\t is positive? True\t actual 1\n",
            "Neg log prob -9.1698\tPos log prob -0.0001\t is positive? True\t actual 1\n",
            "Neg log prob -8.4653\tPos log prob -0.0002\t is positive? True\t actual 1\n",
            "Neg log prob -8.5329\tPos log prob -0.0002\t is positive? True\t actual 1\n",
            "Neg log prob -6.3755\tPos log prob -0.0017\t is positive? True\t actual 1\n",
            "Neg log prob -7.8908\tPos log prob -0.0004\t is positive? True\t actual 1\n",
            "Neg log prob -8.8222\tPos log prob -0.0001\t is positive? True\t actual 1\n",
            "Neg log prob -4.9443\tPos log prob -0.0071\t is positive? True\t actual 1\n",
            "Neg log prob -0.0024\tPos log prob -6.0273\t is positive? False\t actual 0\n",
            "Neg log prob -0.0025\tPos log prob -5.9948\t is positive? False\t actual 0\n",
            "Neg log prob -0.0004\tPos log prob -7.9103\t is positive? False\t actual 0\n",
            "Neg log prob -0.0000\tPos log prob -15.0108\t is positive? False\t actual 0\n",
            "Neg log prob -0.0088\tPos log prob -4.7405\t is positive? False\t actual 0\n",
            "Neg log prob -0.0011\tPos log prob -6.7948\t is positive? False\t actual 0\n",
            "Neg log prob -0.0024\tPos log prob -6.0404\t is positive? False\t actual 0\n",
            "Neg log prob -0.0006\tPos log prob -7.4993\t is positive? False\t actual 0\n"
          ],
          "name": "stdout"
        }
      ]
    },
    {
      "cell_type": "code",
      "metadata": {
        "colab": {
          "base_uri": "https://localhost:8080/",
          "height": 153
        },
        "id": "2I4ySZ97sXP_",
        "outputId": "3266c486-2c0e-4621-9a6e-19bc0eaa79ca"
      },
      "source": [
        "print(\"Array of booleans\")\n",
        "display(tmp_is_positive)\n",
        "\n",
        "# convert boolean to type int32\n",
        "# True is converted to 1\n",
        "# False is converted to 0\n",
        "tmp_is_positive_int = tmp_is_positive.astype(np.int32)\n",
        "\n",
        "\n",
        "# View the array of integers\n",
        "print(\"Array of integers\")\n",
        "display(tmp_is_positive_int)\n",
        "\n",
        "# convert boolean to type float32\n",
        "tmp_is_positive_float = tmp_is_positive.astype(np.float32)\n",
        "\n",
        "# View the array of floats\n",
        "print(\"Array of floats\")\n",
        "display(tmp_is_positive_float)"
      ],
      "execution_count": 31,
      "outputs": [
        {
          "output_type": "stream",
          "text": [
            "Array of booleans\n"
          ],
          "name": "stdout"
        },
        {
          "output_type": "display_data",
          "data": {
            "text/plain": [
              "DeviceArray([ True,  True,  True,  True,  True,  True,  True,  True,\n",
              "             False, False, False, False, False, False, False, False],            dtype=bool)"
            ]
          },
          "metadata": {
            "tags": []
          }
        },
        {
          "output_type": "stream",
          "text": [
            "Array of integers\n"
          ],
          "name": "stdout"
        },
        {
          "output_type": "display_data",
          "data": {
            "text/plain": [
              "DeviceArray([1, 1, 1, 1, 1, 1, 1, 1, 0, 0, 0, 0, 0, 0, 0, 0], dtype=int32)"
            ]
          },
          "metadata": {
            "tags": []
          }
        },
        {
          "output_type": "stream",
          "text": [
            "Array of floats\n"
          ],
          "name": "stdout"
        },
        {
          "output_type": "display_data",
          "data": {
            "text/plain": [
              "DeviceArray([1., 1., 1., 1., 1., 1., 1., 1., 0., 0., 0., 0., 0., 0., 0.,\n",
              "             0.], dtype=float32)"
            ]
          },
          "metadata": {
            "tags": []
          }
        }
      ]
    },
    {
      "cell_type": "code",
      "metadata": {
        "colab": {
          "base_uri": "https://localhost:8080/"
        },
        "id": "1PlRg6_-scCp",
        "outputId": "dd90c10a-1b19-4682-a234-3ab614bc3033"
      },
      "source": [
        "tmp_pred.shape"
      ],
      "execution_count": 32,
      "outputs": [
        {
          "output_type": "execute_result",
          "data": {
            "text/plain": [
              "(16, 2)"
            ]
          },
          "metadata": {
            "tags": []
          },
          "execution_count": 32
        }
      ]
    },
    {
      "cell_type": "code",
      "metadata": {
        "colab": {
          "base_uri": "https://localhost:8080/"
        },
        "id": "YG0T7Kl2sdvZ",
        "outputId": "d52e77fb-17d5-4132-ca04-20ff1a5d06d5"
      },
      "source": [
        "print(f\"True == 1: {True == 1}\")\n",
        "print(f\"True == 2: {True == 2}\")\n",
        "print(f\"False == 0: {False == 0}\")\n",
        "print(f\"False == 2: {False == 2}\")"
      ],
      "execution_count": 33,
      "outputs": [
        {
          "output_type": "stream",
          "text": [
            "True == 1: True\n",
            "True == 2: False\n",
            "False == 0: True\n",
            "False == 2: False\n"
          ],
          "name": "stdout"
        }
      ]
    },
    {
      "cell_type": "code",
      "metadata": {
        "id": "p3Vyd4xCskW_"
      },
      "source": [
        "def compute_accuracy(preds, y, y_weights):\n",
        "    \n",
        "    is_pos =  preds[:, 1] > preds[:, 0] \n",
        "\n",
        "    # convert the array of booleans into an array of np.int32\n",
        "    is_pos_int = is_pos.astype(np.int32)\n",
        "    \n",
        "    # compare the array of predictions (as int32) with the target (labels) of type int32\n",
        "    correct = is_pos_int == y \n",
        "\n",
        "    # Count the sum of the weights.\n",
        "    sum_weights = np.sum(y_weights)\n",
        "    \n",
        "    # convert the array of correct predictions (boolean) into an arrayof np.float32\n",
        "    correct_float = correct.astype(np.float32)\n",
        "    \n",
        "    # Multiply each prediction with its corresponding weight.\n",
        "    weighted_correct_float = correct_float * y_weights\n",
        "\n",
        "    # Sum up the weighted correct predictions (of type np.float32), to go in the\n",
        "    # denominator.\n",
        "    weighted_num_correct = np.sum(weighted_correct_float)\n",
        " \n",
        "    # Divide the number of weighted correct predictions by the sum of the\n",
        "    # weights.\n",
        "    accuracy = weighted_num_correct / sum_weights\n",
        "\n",
        "    ### END CODE HERE ###\n",
        "    return accuracy, weighted_num_correct, sum_weights"
      ],
      "execution_count": 34,
      "outputs": []
    },
    {
      "cell_type": "code",
      "metadata": {
        "colab": {
          "base_uri": "https://localhost:8080/"
        },
        "id": "MUNVRYRPslkF",
        "outputId": "36b5a689-f7fa-4860-c64e-afa69493a5b5"
      },
      "source": [
        "# test your function\n",
        "tmp_val_generator = val_generator(64)\n",
        "\n",
        "# get one batch\n",
        "tmp_batch = next(tmp_val_generator)\n",
        "\n",
        "# Position 0 has the model inputs (tweets as tensors)\n",
        "# position 1 has the targets (the actual labels)\n",
        "tmp_inputs, tmp_targets, tmp_example_weights = tmp_batch\n",
        "\n",
        "# feed the tweet tensors into the model to get a prediction\n",
        "tmp_pred = training_loop.eval_model(tmp_inputs)\n",
        "\n",
        "tmp_acc, tmp_num_correct, tmp_num_predictions = compute_accuracy(preds=tmp_pred, y=tmp_targets, y_weights=tmp_example_weights)\n",
        "\n",
        "print(f\"Model's prediction accuracy on a single training batch is: {100 * tmp_acc}%\")\n",
        "print(f\"Weighted number of correct predictions {tmp_num_correct}; weighted number of total observations predicted {tmp_num_predictions}\")"
      ],
      "execution_count": 35,
      "outputs": [
        {
          "output_type": "stream",
          "text": [
            "Model's prediction accuracy on a single training batch is: 100.0%\n",
            "Weighted number of correct predictions 64.0; weighted number of total observations predicted 64\n"
          ],
          "name": "stdout"
        }
      ]
    },
    {
      "cell_type": "code",
      "metadata": {
        "id": "MVRWR8-usowr"
      },
      "source": [
        "def test_model(generator, model):\n",
        "    \n",
        "    accuracy = 0.\n",
        "    total_num_correct = 0\n",
        "    total_num_pred = 0\n",
        "    \n",
        "    for batch in generator: \n",
        "        \n",
        "        # Retrieve the inputs from the batch\n",
        "        inputs = batch[0]\n",
        "        \n",
        "        # Retrieve the targets (actual labels) from the batch\n",
        "        targets = batch[1]\n",
        "        \n",
        "        # Retrieve the example weight.\n",
        "        example_weight = batch[2]\n",
        "\n",
        "        # Make predictions using the inputs\n",
        "        pred = model(inputs)\n",
        "        \n",
        "        # Calculate accuracy for the batch by comparing its predictions and targets\n",
        "        batch_accuracy, batch_num_correct, batch_num_pred = compute_accuracy(pred, targets, example_weight) \n",
        "        \n",
        "        # Update the total number of correct predictions\n",
        "        # by adding the number of correct predictions from this batch\n",
        "        total_num_correct += batch_num_correct\n",
        "        \n",
        "        # Update the total number of predictions \n",
        "        # by adding the number of predictions made for the batch\n",
        "        total_num_pred += batch_num_pred\n",
        "\n",
        "    # Calculate accuracy over all examples\n",
        "    accuracy = total_num_correct / total_num_pred\n",
        "    \n",
        "    return accuracy"
      ],
      "execution_count": 36,
      "outputs": []
    },
    {
      "cell_type": "code",
      "metadata": {
        "id": "w8zCzQKcstbb"
      },
      "source": [
        "def predict(sentence):\n",
        "    inputs = np.array(tweet_to_tensor(sentence, vocab_dict=Vocab))\n",
        "    \n",
        "    # Batch size 1, add dimension for batch, to work with the model\n",
        "    inputs = inputs[None, :]  \n",
        "    \n",
        "    # predict with the model\n",
        "    preds_probs = model(inputs)\n",
        "    \n",
        "    # Turn probabilities into categories\n",
        "    preds = int(preds_probs[0, 1] > preds_probs[0, 0])\n",
        "    \n",
        "    sentiment = \"negative\"\n",
        "    if preds == 1:\n",
        "        sentiment = 'positive'\n",
        "\n",
        "    return preds, sentiment"
      ],
      "execution_count": 37,
      "outputs": []
    },
    {
      "cell_type": "code",
      "metadata": {
        "colab": {
          "base_uri": "https://localhost:8080/"
        },
        "id": "C725HgM5swtt",
        "outputId": "7dc4b933-7760-4dd3-8660-ea905fcfd3dc"
      },
      "source": [
        "sentence = \"I love chicken\"\n",
        "tmp_pred, tmp_sentiment = predict(sentence)\n",
        "print(f\"The sentiment of the sentence \\n***\\n\\\"{sentence}\\\"\\n***\\nis {tmp_sentiment}.\")"
      ],
      "execution_count": 38,
      "outputs": [
        {
          "output_type": "stream",
          "text": [
            "The sentiment of the sentence \n",
            "***\n",
            "\"I love chicken\"\n",
            "***\n",
            "is positive.\n"
          ],
          "name": "stdout"
        }
      ]
    },
    {
      "cell_type": "code",
      "metadata": {
        "colab": {
          "base_uri": "https://localhost:8080/"
        },
        "id": "jcTmg44Ks4Dd",
        "outputId": "7b8e2c88-6da4-40ba-df1a-bb278fc56079"
      },
      "source": [
        "sentence = \"Stupidity disgusts me.\"\n",
        "tmp_pred, tmp_sentiment = predict(sentence)\n",
        "print(f\"The sentiment of the sentence \\n***\\n\\\"{sentence}\\\"\\n***\\nis {tmp_sentiment}.\")"
      ],
      "execution_count": 39,
      "outputs": [
        {
          "output_type": "stream",
          "text": [
            "The sentiment of the sentence \n",
            "***\n",
            "\"Stupidity disgusts me.\"\n",
            "***\n",
            "is negative.\n"
          ],
          "name": "stdout"
        }
      ]
    },
    {
      "cell_type": "code",
      "metadata": {
        "id": "ZL_wxiL7zh6L"
      },
      "source": [
        "from keras.models import Model\n",
        "from tensorflow import keras"
      ],
      "execution_count": 40,
      "outputs": []
    },
    {
      "cell_type": "code",
      "metadata": {
        "colab": {
          "base_uri": "https://localhost:8080/"
        },
        "id": "mzXaFSHltc2j",
        "outputId": "378a515a-79cc-402c-8247-31a884f53e53"
      },
      "source": [
        "keras_layer = trax.AsKeras(model)\n",
        "\n",
        "print(keras_layer)"
      ],
      "execution_count": 41,
      "outputs": [
        {
          "output_type": "stream",
          "text": [
            "<trax.trax2keras.AsKeras object at 0x7fb8dea5eb90>\n"
          ],
          "name": "stdout"
        }
      ]
    },
    {
      "cell_type": "code",
      "metadata": {
        "id": "SsIlPMU42JoE"
      },
      "source": [
        "import tensorflow as tf"
      ],
      "execution_count": 42,
      "outputs": []
    },
    {
      "cell_type": "code",
      "metadata": {
        "colab": {
          "base_uri": "https://localhost:8080/"
        },
        "id": "SJIopmqdxUfB",
        "outputId": "43a1339d-6eb9-43fc-bbd0-6677db0e1073"
      },
      "source": [
        "inputs = tf.keras.Input(shape=(None,), dtype='int32')\n",
        "hidden = keras_layer(inputs) \n",
        "\n",
        "outputs = hidden\n",
        "keras_model = tf.keras.Model(inputs=inputs, outputs=outputs)\n",
        "print(keras_model)"
      ],
      "execution_count": 43,
      "outputs": [
        {
          "output_type": "stream",
          "text": [
            "WARNING:tensorflow:AutoGraph could not transform <bound method AssertShape.forward of > and will run it as-is.\n",
            "Please report this to the TensorFlow team. When filing the bug, set the verbosity to 10 (on Linux, `export AUTOGRAPH_VERBOSITY=10`) and attach the full output.\n",
            "Cause: \n",
            "To silence this warning, decorate the function with @tf.autograph.experimental.do_not_convert\n"
          ],
          "name": "stdout"
        },
        {
          "output_type": "stream",
          "text": [
            "WARNING:tensorflow:AutoGraph could not transform <bound method AssertShape.forward of > and will run it as-is.\n",
            "Please report this to the TensorFlow team. When filing the bug, set the verbosity to 10 (on Linux, `export AUTOGRAPH_VERBOSITY=10`) and attach the full output.\n",
            "Cause: \n",
            "To silence this warning, decorate the function with @tf.autograph.experimental.do_not_convert\n"
          ],
          "name": "stderr"
        },
        {
          "output_type": "stream",
          "text": [
            "WARNING: AutoGraph could not transform <bound method AssertShape.forward of > and will run it as-is.\n",
            "Please report this to the TensorFlow team. When filing the bug, set the verbosity to 10 (on Linux, `export AUTOGRAPH_VERBOSITY=10`) and attach the full output.\n",
            "Cause: \n",
            "To silence this warning, decorate the function with @tf.autograph.experimental.do_not_convert\n"
          ],
          "name": "stdout"
        },
        {
          "output_type": "stream",
          "text": [
            "WARNING:absl:AssertShape cannot check shapes. This often happens when using trax2keras. Shape asserts are skipped.\n",
            "WARNING:absl:AssertShape cannot check shapes. This often happens when using trax2keras. Shape asserts are skipped.\n"
          ],
          "name": "stderr"
        },
        {
          "output_type": "stream",
          "text": [
            "AssertShape cannot check shapes. This often happens when using trax2keras. Shape asserts are skipped.\n",
            "AssertShape cannot check shapes. This often happens when using trax2keras. Shape asserts are skipped.\n"
          ],
          "name": "stdout"
        },
        {
          "output_type": "stream",
          "text": [
            "WARNING:absl:AssertShape cannot check shapes. This often happens when using trax2keras. Shape asserts are skipped.\n",
            "WARNING:absl:AssertShape cannot check shapes. This often happens when using trax2keras. Shape asserts are skipped.\n"
          ],
          "name": "stderr"
        },
        {
          "output_type": "stream",
          "text": [
            "AssertShape cannot check shapes. This often happens when using trax2keras. Shape asserts are skipped.\n",
            "AssertShape cannot check shapes. This often happens when using trax2keras. Shape asserts are skipped.\n",
            "<tensorflow.python.keras.engine.functional.Functional object at 0x7fb8dea51210>\n"
          ],
          "name": "stdout"
        }
      ]
    },
    {
      "cell_type": "code",
      "metadata": {
        "id": "QZdhhl0NxYxg"
      },
      "source": [
        "import os"
      ],
      "execution_count": 44,
      "outputs": []
    },
    {
      "cell_type": "code",
      "metadata": {
        "colab": {
          "base_uri": "https://localhost:8080/"
        },
        "id": "14HWgOOoxhOd",
        "outputId": "bd7928a6-0419-4241-e626-2b5c201384aa"
      },
      "source": [
        "model_file = \"/content/drive/MyDrive/trax_sentiment_analysis/trax.h5\"\n",
        "tf.saved_model.save(keras_model, model_file)"
      ],
      "execution_count": 45,
      "outputs": [
        {
          "output_type": "stream",
          "text": [
            "WARNING:absl:AssertShape cannot check shapes. This often happens when using trax2keras. Shape asserts are skipped.\n",
            "WARNING:absl:AssertShape cannot check shapes. This often happens when using trax2keras. Shape asserts are skipped.\n",
            "WARNING:absl:AssertShape cannot check shapes. This often happens when using trax2keras. Shape asserts are skipped.\n",
            "WARNING:absl:AssertShape cannot check shapes. This often happens when using trax2keras. Shape asserts are skipped.\n"
          ],
          "name": "stderr"
        },
        {
          "output_type": "stream",
          "text": [
            "AssertShape cannot check shapes. This often happens when using trax2keras. Shape asserts are skipped.\n",
            "AssertShape cannot check shapes. This often happens when using trax2keras. Shape asserts are skipped.\n",
            "AssertShape cannot check shapes. This often happens when using trax2keras. Shape asserts are skipped.\n",
            "AssertShape cannot check shapes. This often happens when using trax2keras. Shape asserts are skipped.\n"
          ],
          "name": "stdout"
        },
        {
          "output_type": "stream",
          "text": [
            "WARNING:absl:AssertShape cannot check shapes. This often happens when using trax2keras. Shape asserts are skipped.\n",
            "WARNING:absl:AssertShape cannot check shapes. This often happens when using trax2keras. Shape asserts are skipped.\n",
            "WARNING:absl:AssertShape cannot check shapes. This often happens when using trax2keras. Shape asserts are skipped.\n"
          ],
          "name": "stderr"
        },
        {
          "output_type": "stream",
          "text": [
            "AssertShape cannot check shapes. This often happens when using trax2keras. Shape asserts are skipped.\n",
            "AssertShape cannot check shapes. This often happens when using trax2keras. Shape asserts are skipped.\n",
            "AssertShape cannot check shapes. This often happens when using trax2keras. Shape asserts are skipped.\n"
          ],
          "name": "stdout"
        },
        {
          "output_type": "stream",
          "text": [
            "WARNING:absl:AssertShape cannot check shapes. This often happens when using trax2keras. Shape asserts are skipped.\n"
          ],
          "name": "stderr"
        },
        {
          "output_type": "stream",
          "text": [
            "AssertShape cannot check shapes. This often happens when using trax2keras. Shape asserts are skipped.\n"
          ],
          "name": "stdout"
        },
        {
          "output_type": "stream",
          "text": [
            "WARNING:absl:AssertShape cannot check shapes. This often happens when using trax2keras. Shape asserts are skipped.\n",
            "WARNING:absl:AssertShape cannot check shapes. This often happens when using trax2keras. Shape asserts are skipped.\n",
            "WARNING:absl:AssertShape cannot check shapes. This often happens when using trax2keras. Shape asserts are skipped.\n",
            "WARNING:absl:AssertShape cannot check shapes. This often happens when using trax2keras. Shape asserts are skipped.\n"
          ],
          "name": "stderr"
        },
        {
          "output_type": "stream",
          "text": [
            "AssertShape cannot check shapes. This often happens when using trax2keras. Shape asserts are skipped.\n",
            "AssertShape cannot check shapes. This often happens when using trax2keras. Shape asserts are skipped.\n",
            "AssertShape cannot check shapes. This often happens when using trax2keras. Shape asserts are skipped.\n",
            "AssertShape cannot check shapes. This often happens when using trax2keras. Shape asserts are skipped.\n"
          ],
          "name": "stdout"
        },
        {
          "output_type": "stream",
          "text": [
            "WARNING:absl:AssertShape cannot check shapes. This often happens when using trax2keras. Shape asserts are skipped.\n",
            "WARNING:absl:AssertShape cannot check shapes. This often happens when using trax2keras. Shape asserts are skipped.\n",
            "WARNING:absl:AssertShape cannot check shapes. This often happens when using trax2keras. Shape asserts are skipped.\n",
            "WARNING:absl:AssertShape cannot check shapes. This often happens when using trax2keras. Shape asserts are skipped.\n"
          ],
          "name": "stderr"
        },
        {
          "output_type": "stream",
          "text": [
            "AssertShape cannot check shapes. This often happens when using trax2keras. Shape asserts are skipped.\n",
            "AssertShape cannot check shapes. This often happens when using trax2keras. Shape asserts are skipped.\n",
            "AssertShape cannot check shapes. This often happens when using trax2keras. Shape asserts are skipped.\n",
            "AssertShape cannot check shapes. This often happens when using trax2keras. Shape asserts are skipped.\n"
          ],
          "name": "stdout"
        },
        {
          "output_type": "stream",
          "text": [
            "WARNING:absl:AssertShape cannot check shapes. This often happens when using trax2keras. Shape asserts are skipped.\n",
            "WARNING:absl:AssertShape cannot check shapes. This often happens when using trax2keras. Shape asserts are skipped.\n",
            "WARNING:absl:AssertShape cannot check shapes. This often happens when using trax2keras. Shape asserts are skipped.\n",
            "WARNING:absl:AssertShape cannot check shapes. This often happens when using trax2keras. Shape asserts are skipped.\n"
          ],
          "name": "stderr"
        },
        {
          "output_type": "stream",
          "text": [
            "AssertShape cannot check shapes. This often happens when using trax2keras. Shape asserts are skipped.\n",
            "AssertShape cannot check shapes. This often happens when using trax2keras. Shape asserts are skipped.\n",
            "AssertShape cannot check shapes. This often happens when using trax2keras. Shape asserts are skipped.\n",
            "AssertShape cannot check shapes. This often happens when using trax2keras. Shape asserts are skipped.\n",
            "INFO:tensorflow:Assets written to: /content/drive/MyDrive/trax_sentiment_analysis/trax.h5/assets\n"
          ],
          "name": "stdout"
        },
        {
          "output_type": "stream",
          "text": [
            "INFO:tensorflow:Assets written to: /content/drive/MyDrive/trax_sentiment_analysis/trax.h5/assets\n"
          ],
          "name": "stderr"
        }
      ]
    },
    {
      "cell_type": "code",
      "metadata": {
        "id": "EIV1L4sz77j3"
      },
      "source": [
        "loaded = tf.saved_model.load(model_file)"
      ],
      "execution_count": 46,
      "outputs": []
    },
    {
      "cell_type": "code",
      "metadata": {
        "colab": {
          "base_uri": "https://localhost:8080/"
        },
        "id": "UIosFrmu8I9g",
        "outputId": "c09d7cb4-0f92-4f39-8d63-2218ebd5fe34"
      },
      "source": [
        "sentence = \"he is tall.\"\n",
        "tmp_pred, tmp_sentiment = predict(sentence)\n",
        "print(f\"The sentiment of the sentence \\n***\\n\\\"{sentence}\\\"\\n***\\nis {tmp_sentiment}.\")"
      ],
      "execution_count": 52,
      "outputs": [
        {
          "output_type": "stream",
          "text": [
            "The sentiment of the sentence \n",
            "***\n",
            "\"he is tall.\"\n",
            "***\n",
            "is positive.\n"
          ],
          "name": "stdout"
        }
      ]
    }
  ]
}